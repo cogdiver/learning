{
 "cells": [
  {
   "cell_type": "code",
   "metadata": {
    "tags": [],
    "cell_id": "c2bbd12a-5c16-4e97-8aef-5b8104ead7ea",
    "deepnote_to_be_reexecuted": false,
    "source_hash": "ab79bc13",
    "execution_start": 1647026256800,
    "execution_millis": 828,
    "deepnote_cell_type": "code",
    "deepnote_cell_height": 279
   },
   "source": "import pandas as pd\n\nfrom sklearn.linear_model import (\n    RANSACRegressor, HuberRegressor\n)\nfrom sklearn.svm import SVR\n\nfrom sklearn.model_selection import train_test_split\nfrom sklearn.metrics  import mean_squared_error\n\nimport warnings\nwarnings.simplefilter(\"ignore\")",
   "execution_count": null,
   "outputs": []
  },
  {
   "cell_type": "code",
   "metadata": {
    "cell_id": "67f4730c-085a-440f-9b0a-9bf4634d10a9",
    "tags": [],
    "deepnote_to_be_reexecuted": false,
    "source_hash": "e117b2f3",
    "execution_start": 1647026321456,
    "execution_millis": 57,
    "deepnote_cell_type": "code",
    "deepnote_cell_height": 633
   },
   "source": "dataset =  pd.read_csv('data/felicidad_corrupt.csv')\ndataset",
   "execution_count": null,
   "outputs": [
    {
     "output_type": "execute_result",
     "execution_count": 2,
     "data": {
      "application/vnd.deepnote.dataframe.v3+json": {
       "column_count": 12,
       "row_count": 167,
       "columns": [
        {
         "name": "country",
         "dtype": "object",
         "stats": {
          "unique_count": 167,
          "nan_count": 0,
          "categories": [
           {
            "name": "Norway",
            "count": 1
           },
           {
            "name": "Denmark",
            "count": 1
           },
           {
            "name": "165 others",
            "count": 165
           }
          ]
         }
        },
        {
         "name": "rank",
         "dtype": "int64",
         "stats": {
          "unique_count": 167,
          "nan_count": 0,
          "min": "1",
          "max": "167",
          "histogram": [
           {
            "bin_start": 1,
            "bin_end": 17.6,
            "count": 17
           },
           {
            "bin_start": 17.6,
            "bin_end": 34.2,
            "count": 17
           },
           {
            "bin_start": 34.2,
            "bin_end": 50.800000000000004,
            "count": 16
           },
           {
            "bin_start": 50.800000000000004,
            "bin_end": 67.4,
            "count": 17
           },
           {
            "bin_start": 67.4,
            "bin_end": 84,
            "count": 16
           },
           {
            "bin_start": 84,
            "bin_end": 100.60000000000001,
            "count": 17
           },
           {
            "bin_start": 100.60000000000001,
            "bin_end": 117.20000000000002,
            "count": 17
           },
           {
            "bin_start": 117.20000000000002,
            "bin_end": 133.8,
            "count": 16
           },
           {
            "bin_start": 133.8,
            "bin_end": 150.4,
            "count": 17
           },
           {
            "bin_start": 150.4,
            "bin_end": 167,
            "count": 17
           }
          ]
         }
        },
        {
         "name": "score",
         "dtype": "float64",
         "stats": {
          "unique_count": 152,
          "nan_count": 0,
          "min": "0.0",
          "max": "7.537000179",
          "histogram": [
           {
            "bin_start": 0,
            "bin_end": 0.7537000179,
            "count": 12
           },
           {
            "bin_start": 0.7537000179,
            "bin_end": 1.5074000358,
            "count": 0
           },
           {
            "bin_start": 1.5074000358,
            "bin_end": 2.2611000537,
            "count": 0
           },
           {
            "bin_start": 2.2611000537,
            "bin_end": 3.0148000716,
            "count": 2
           },
           {
            "bin_start": 3.0148000716,
            "bin_end": 3.7685000895,
            "count": 12
           },
           {
            "bin_start": 3.7685000895,
            "bin_end": 4.5222001074,
            "count": 26
           },
           {
            "bin_start": 4.5222001074,
            "bin_end": 5.2759001253,
            "count": 37
           },
           {
            "bin_start": 5.2759001253,
            "bin_end": 6.0296001432,
            "count": 35
           },
           {
            "bin_start": 6.0296001432,
            "bin_end": 6.7833001611,
            "count": 25
           },
           {
            "bin_start": 6.7833001611,
            "bin_end": 7.537000179,
            "count": 18
           }
          ]
         }
        },
        {
         "name": "high",
         "dtype": "float64",
         "stats": {
          "unique_count": 156,
          "nan_count": 0,
          "min": "0.0",
          "max": "7.622030473",
          "histogram": [
           {
            "bin_start": 0,
            "bin_end": 0.7622030473,
            "count": 12
           },
           {
            "bin_start": 0.7622030473,
            "bin_end": 1.5244060946,
            "count": 0
           },
           {
            "bin_start": 1.5244060946,
            "bin_end": 2.2866091419,
            "count": 0
           },
           {
            "bin_start": 2.2866091419,
            "bin_end": 3.0488121892,
            "count": 1
           },
           {
            "bin_start": 3.0488121892,
            "bin_end": 3.8110152365,
            "count": 12
           },
           {
            "bin_start": 3.8110152365,
            "bin_end": 4.5732182838,
            "count": 25
           },
           {
            "bin_start": 4.5732182838,
            "bin_end": 5.3354213311,
            "count": 34
           },
           {
            "bin_start": 5.3354213311,
            "bin_end": 6.0976243784,
            "count": 37
           },
           {
            "bin_start": 6.0976243784,
            "bin_end": 6.8598274257,
            "count": 28
           },
           {
            "bin_start": 6.8598274257,
            "bin_end": 7.622030473,
            "count": 18
           }
          ]
         }
        },
        {
         "name": "low",
         "dtype": "float64",
         "stats": {
          "unique_count": 156,
          "nan_count": 0,
          "min": "0.0",
          "max": "7.479555538",
          "histogram": [
           {
            "bin_start": 0,
            "bin_end": 0.7479555538,
            "count": 12
           },
           {
            "bin_start": 0.7479555538,
            "bin_end": 1.4959111076,
            "count": 0
           },
           {
            "bin_start": 1.4959111076,
            "bin_end": 2.2438666614000002,
            "count": 0
           },
           {
            "bin_start": 2.2438666614000002,
            "bin_end": 2.9918222152,
            "count": 2
           },
           {
            "bin_start": 2.9918222152,
            "bin_end": 3.739777769,
            "count": 15
           },
           {
            "bin_start": 3.739777769,
            "bin_end": 4.4877333228000005,
            "count": 28
           },
           {
            "bin_start": 4.4877333228000005,
            "bin_end": 5.2356888766,
            "count": 36
           },
           {
            "bin_start": 5.2356888766,
            "bin_end": 5.9836444304,
            "count": 33
           },
           {
            "bin_start": 5.9836444304,
            "bin_end": 6.7315999842,
            "count": 23
           },
           {
            "bin_start": 6.7315999842,
            "bin_end": 7.479555538,
            "count": 18
           }
          ]
         }
        },
        {
         "name": "gdp",
         "dtype": "float64",
         "stats": {
          "unique_count": 155,
          "nan_count": 0,
          "min": "0.0",
          "max": "1.870765686",
          "histogram": [
           {
            "bin_start": 0,
            "bin_end": 0.1870765686,
            "count": 18
           },
           {
            "bin_start": 0.1870765686,
            "bin_end": 0.3741531372,
            "count": 11
           },
           {
            "bin_start": 0.3741531372,
            "bin_end": 0.5612297058,
            "count": 13
           },
           {
            "bin_start": 0.5612297058,
            "bin_end": 0.7483062744,
            "count": 15
           },
           {
            "bin_start": 0.7483062744,
            "bin_end": 0.935382843,
            "count": 18
           },
           {
            "bin_start": 0.935382843,
            "bin_end": 1.1224594116,
            "count": 27
           },
           {
            "bin_start": 1.1224594116,
            "bin_end": 1.3095359802,
            "count": 24
           },
           {
            "bin_start": 1.3095359802,
            "bin_end": 1.4966125488,
            "count": 29
           },
           {
            "bin_start": 1.4966125488,
            "bin_end": 1.6836891174,
            "count": 9
           },
           {
            "bin_start": 1.6836891174,
            "bin_end": 1.870765686,
            "count": 3
           }
          ]
         }
        },
        {
         "name": "family",
         "dtype": "float64",
         "stats": {
          "unique_count": 155,
          "nan_count": 0,
          "min": "0.0",
          "max": "1.610574007",
          "histogram": [
           {
            "bin_start": 0,
            "bin_end": 0.16105740070000002,
            "count": 13
           },
           {
            "bin_start": 0.16105740070000002,
            "bin_end": 0.32211480140000004,
            "count": 0
           },
           {
            "bin_start": 0.32211480140000004,
            "bin_end": 0.48317220210000006,
            "count": 3
           },
           {
            "bin_start": 0.48317220210000006,
            "bin_end": 0.6442296028000001,
            "count": 6
           },
           {
            "bin_start": 0.6442296028000001,
            "bin_end": 0.8052870035000002,
            "count": 8
           },
           {
            "bin_start": 0.8052870035000002,
            "bin_end": 0.9663444042000001,
            "count": 12
           },
           {
            "bin_start": 0.9663444042000001,
            "bin_end": 1.1274018049,
            "count": 17
           },
           {
            "bin_start": 1.1274018049,
            "bin_end": 1.2884592056000002,
            "count": 48
           },
           {
            "bin_start": 1.2884592056000002,
            "bin_end": 1.4495166063000002,
            "count": 34
           },
           {
            "bin_start": 1.4495166063000002,
            "bin_end": 1.610574007,
            "count": 26
           }
          ]
         }
        },
        {
         "name": "lifexp",
         "dtype": "float64",
         "stats": {
          "unique_count": 155,
          "nan_count": 0,
          "min": "0.0",
          "max": "0.949492395",
          "histogram": [
           {
            "bin_start": 0,
            "bin_end": 0.0949492395,
            "count": 19
           },
           {
            "bin_start": 0.0949492395,
            "bin_end": 0.189898479,
            "count": 8
           },
           {
            "bin_start": 0.189898479,
            "bin_end": 0.2848477185,
            "count": 11
           },
           {
            "bin_start": 0.2848477185,
            "bin_end": 0.379796958,
            "count": 14
           },
           {
            "bin_start": 0.379796958,
            "bin_end": 0.4747461975,
            "count": 9
           },
           {
            "bin_start": 0.4747461975,
            "bin_end": 0.569695437,
            "count": 18
           },
           {
            "bin_start": 0.569695437,
            "bin_end": 0.6646446765,
            "count": 34
           },
           {
            "bin_start": 0.6646446765,
            "bin_end": 0.759593916,
            "count": 21
           },
           {
            "bin_start": 0.759593916,
            "bin_end": 0.8545431555,
            "count": 27
           },
           {
            "bin_start": 0.8545431555,
            "bin_end": 0.949492395,
            "count": 6
           }
          ]
         }
        },
        {
         "name": "freedom",
         "dtype": "float64",
         "stats": {
          "unique_count": 155,
          "nan_count": 0,
          "min": "0.0",
          "max": "0.658248663",
          "histogram": [
           {
            "bin_start": 0,
            "bin_end": 0.06582486629999999,
            "count": 16
           },
           {
            "bin_start": 0.06582486629999999,
            "bin_end": 0.13164973259999999,
            "count": 5
           },
           {
            "bin_start": 0.13164973259999999,
            "bin_end": 0.19747459889999996,
            "count": 6
           },
           {
            "bin_start": 0.19747459889999996,
            "bin_end": 0.26329946519999997,
            "count": 15
           },
           {
            "bin_start": 0.26329946519999997,
            "bin_end": 0.3291243315,
            "count": 16
           },
           {
            "bin_start": 0.3291243315,
            "bin_end": 0.39494919779999993,
            "count": 15
           },
           {
            "bin_start": 0.39494919779999993,
            "bin_end": 0.46077406409999994,
            "count": 28
           },
           {
            "bin_start": 0.46077406409999994,
            "bin_end": 0.5265989303999999,
            "count": 30
           },
           {
            "bin_start": 0.5265989303999999,
            "bin_end": 0.5924237966999999,
            "count": 21
           },
           {
            "bin_start": 0.5924237966999999,
            "bin_end": 0.658248663,
            "count": 15
           }
          ]
         }
        },
        {
         "name": "generosity",
         "dtype": "float64",
         "stats": {
          "unique_count": 155,
          "nan_count": 0,
          "min": "0.0",
          "max": "0.838075161",
          "histogram": [
           {
            "bin_start": 0,
            "bin_end": 0.0838075161,
            "count": 28
           },
           {
            "bin_start": 0.0838075161,
            "bin_end": 0.1676150322,
            "count": 27
           },
           {
            "bin_start": 0.1676150322,
            "bin_end": 0.2514225483,
            "count": 48
           },
           {
            "bin_start": 0.2514225483,
            "bin_end": 0.3352300644,
            "count": 31
           },
           {
            "bin_start": 0.3352300644,
            "bin_end": 0.41903758050000006,
            "count": 16
           },
           {
            "bin_start": 0.41903758050000006,
            "bin_end": 0.5028450966,
            "count": 13
           },
           {
            "bin_start": 0.5028450966,
            "bin_end": 0.5866526127,
            "count": 2
           },
           {
            "bin_start": 0.5866526127,
            "bin_end": 0.6704601288,
            "count": 1
           },
           {
            "bin_start": 0.6704601288,
            "bin_end": 0.7542676449000001,
            "count": 0
           },
           {
            "bin_start": 0.7542676449000001,
            "bin_end": 0.838075161,
            "count": 1
           }
          ]
         }
        },
        {
         "name": "corruption",
         "dtype": "float64",
         "stats": {
          "unique_count": 155,
          "nan_count": 0,
          "min": "0.0",
          "max": "0.464307785",
          "histogram": [
           {
            "bin_start": 0,
            "bin_end": 0.0464307785,
            "count": 42
           },
           {
            "bin_start": 0.0464307785,
            "bin_end": 0.092861557,
            "count": 52
           },
           {
            "bin_start": 0.092861557,
            "bin_end": 0.1392923355,
            "count": 29
           },
           {
            "bin_start": 0.1392923355,
            "bin_end": 0.185723114,
            "count": 16
           },
           {
            "bin_start": 0.185723114,
            "bin_end": 0.2321538925,
            "count": 3
           },
           {
            "bin_start": 0.2321538925,
            "bin_end": 0.278584671,
            "count": 8
           },
           {
            "bin_start": 0.278584671,
            "bin_end": 0.3250154495,
            "count": 9
           },
           {
            "bin_start": 0.3250154495,
            "bin_end": 0.371446228,
            "count": 1
           },
           {
            "bin_start": 0.371446228,
            "bin_end": 0.4178770065,
            "count": 4
           },
           {
            "bin_start": 0.4178770065,
            "bin_end": 0.464307785,
            "count": 3
           }
          ]
         }
        },
        {
         "name": "dystopia",
         "dtype": "float64",
         "stats": {
          "unique_count": 156,
          "nan_count": 0,
          "min": "0.0",
          "max": "3.11748457",
          "histogram": [
           {
            "bin_start": 0,
            "bin_end": 0.311748457,
            "count": 12
           },
           {
            "bin_start": 0.311748457,
            "bin_end": 0.623496914,
            "count": 5
           },
           {
            "bin_start": 0.623496914,
            "bin_end": 0.9352453709999999,
            "count": 1
           },
           {
            "bin_start": 0.9352453709999999,
            "bin_end": 1.246993828,
            "count": 9
           },
           {
            "bin_start": 1.246993828,
            "bin_end": 1.558742285,
            "count": 22
           },
           {
            "bin_start": 1.558742285,
            "bin_end": 1.8704907419999999,
            "count": 46
           },
           {
            "bin_start": 1.8704907419999999,
            "bin_end": 2.1822391989999996,
            "count": 36
           },
           {
            "bin_start": 2.1822391989999996,
            "bin_end": 2.493987656,
            "count": 20
           },
           {
            "bin_start": 2.493987656,
            "bin_end": 2.805736113,
            "count": 11
           },
           {
            "bin_start": 2.805736113,
            "bin_end": 3.11748457,
            "count": 5
           }
          ]
         }
        },
        {
         "name": "_deepnote_index_column",
         "dtype": "int64"
        }
       ],
       "rows": [
        {
         "country": "Norway",
         "rank": 1,
         "score": 7.537000179,
         "high": 7.594444821,
         "low": 7.479555538,
         "gdp": 1.616463184,
         "family": 1.53352356,
         "lifexp": 0.796666503,
         "freedom": 0.635422587,
         "generosity": 0.362012237,
         "corruption": 0.315963835,
         "dystopia": 2.277026653,
         "_deepnote_index_column": 0
        },
        {
         "country": "Denmark",
         "rank": 2,
         "score": 7.521999836,
         "high": 7.581728065,
         "low": 7.462271607,
         "gdp": 1.482383013,
         "family": 1.551121593,
         "lifexp": 0.792565525,
         "freedom": 0.626006722,
         "generosity": 0.355280489,
         "corruption": 0.400770068,
         "dystopia": 2.313707352,
         "_deepnote_index_column": 1
        },
        {
         "country": "Iceland",
         "rank": 3,
         "score": 7.504000187,
         "high": 7.622030473,
         "low": 7.385969901,
         "gdp": 1.48063302,
         "family": 1.610574007,
         "lifexp": 0.833552122,
         "freedom": 0.627162635,
         "generosity": 0.475540221,
         "corruption": 0.153526559,
         "dystopia": 2.322715282,
         "_deepnote_index_column": 2
        },
        {
         "country": "Switzerland",
         "rank": 4,
         "score": 7.493999958,
         "high": 7.56177242,
         "low": 7.426227496,
         "gdp": 1.564979553,
         "family": 1.516911745,
         "lifexp": 0.858131289,
         "freedom": 0.620070577,
         "generosity": 0.290549278,
         "corruption": 0.367007285,
         "dystopia": 2.276716232,
         "_deepnote_index_column": 3
        },
        {
         "country": "Finland",
         "rank": 5,
         "score": 7.468999863,
         "high": 7.527542076,
         "low": 7.41045765,
         "gdp": 1.443571925,
         "family": 1.540246725,
         "lifexp": 0.80915767,
         "freedom": 0.617950857,
         "generosity": 0.245482773,
         "corruption": 0.382611543,
         "dystopia": 2.430181503,
         "_deepnote_index_column": 4
        },
        {
         "country": "Netherlands",
         "rank": 6,
         "score": 7.376999855,
         "high": 7.427425841,
         "low": 7.326573869,
         "gdp": 1.503944635,
         "family": 1.428939223,
         "lifexp": 0.810696125,
         "freedom": 0.585384488,
         "generosity": 0.47048983,
         "corruption": 0.282661825,
         "dystopia": 2.294804096,
         "_deepnote_index_column": 5
        },
        {
         "country": "Canada",
         "rank": 7,
         "score": 7.315999985,
         "high": 7.384402835,
         "low": 7.247597134,
         "gdp": 1.479204416,
         "family": 1.481348991,
         "lifexp": 0.834557652,
         "freedom": 0.611100912,
         "generosity": 0.435539722,
         "corruption": 0.287371516,
         "dystopia": 2.187264442,
         "_deepnote_index_column": 6
        },
        {
         "country": "New Zealand",
         "rank": 8,
         "score": 7.31400013,
         "high": 7.379510442,
         "low": 7.248489818,
         "gdp": 1.405706048,
         "family": 1.548195124,
         "lifexp": 0.816759706,
         "freedom": 0.61406213,
         "generosity": 0.500005126,
         "corruption": 0.382816702,
         "dystopia": 2.046456337,
         "_deepnote_index_column": 7
        },
        {
         "country": "Sweden",
         "rank": 9,
         "score": 7.28399992,
         "high": 7.344094877,
         "low": 7.223904962,
         "gdp": 1.494387269,
         "family": 1.478162169,
         "lifexp": 0.830875158,
         "freedom": 0.612924099,
         "generosity": 0.385399252,
         "corruption": 0.384398729,
         "dystopia": 2.097537994,
         "_deepnote_index_column": 8
        },
        {
         "country": "Australia",
         "rank": 10,
         "score": 7.28399992,
         "high": 7.356651225,
         "low": 7.211348615,
         "gdp": 1.484414935,
         "family": 1.510041952,
         "lifexp": 0.843886793,
         "freedom": 0.601607382,
         "generosity": 0.47769925,
         "corruption": 0.30118373,
         "dystopia": 2.065210819,
         "_deepnote_index_column": 9
        }
       ]
      },
      "text/plain": "         country  rank  score      high       low       gdp    family  \\\n0         Norway     1  7.537  7.594445  7.479556  1.616463  1.533524   \n1        Denmark     2  7.522  7.581728  7.462272  1.482383  1.551122   \n2        Iceland     3  7.504  7.622030  7.385970  1.480633  1.610574   \n3    Switzerland     4  7.494  7.561772  7.426227  1.564980  1.516912   \n4        Finland     5  7.469  7.527542  7.410458  1.443572  1.540247   \n..           ...   ...    ...       ...       ...       ...       ...   \n162            H   163  0.000  0.000000  0.000000  0.000000  0.000000   \n163            I   164  0.000  0.000000  0.000000  0.000000  0.000000   \n164            J   165  0.000  0.000000  0.000000  0.000000  0.000000   \n165            K   166  0.000  0.000000  0.000000  0.000000  0.000000   \n166            L   167  0.000  0.000000  0.000000  0.000000  0.000000   \n\n       lifexp   freedom  generosity  corruption  dystopia  \n0    0.796667  0.635423    0.362012    0.315964  2.277027  \n1    0.792566  0.626007    0.355280    0.400770  2.313707  \n2    0.833552  0.627163    0.475540    0.153527  2.322715  \n3    0.858131  0.620071    0.290549    0.367007  2.276716  \n4    0.809158  0.617951    0.245483    0.382612  2.430182  \n..        ...       ...         ...         ...       ...  \n162  0.000000  0.000000    0.000000    0.000000  0.000000  \n163  0.000000  0.000000    0.000000    0.000000  0.000000  \n164  0.000000  0.000000    0.000000    0.000000  0.000000  \n165  0.000000  0.000000    0.000000    0.000000  0.000000  \n166  0.000000  0.000000    0.000000    0.000000  0.000000  \n\n[167 rows x 12 columns]",
      "text/html": "<div>\n<style scoped>\n    .dataframe tbody tr th:only-of-type {\n        vertical-align: middle;\n    }\n\n    .dataframe tbody tr th {\n        vertical-align: top;\n    }\n\n    .dataframe thead th {\n        text-align: right;\n    }\n</style>\n<table border=\"1\" class=\"dataframe\">\n  <thead>\n    <tr style=\"text-align: right;\">\n      <th></th>\n      <th>country</th>\n      <th>rank</th>\n      <th>score</th>\n      <th>high</th>\n      <th>low</th>\n      <th>gdp</th>\n      <th>family</th>\n      <th>lifexp</th>\n      <th>freedom</th>\n      <th>generosity</th>\n      <th>corruption</th>\n      <th>dystopia</th>\n    </tr>\n  </thead>\n  <tbody>\n    <tr>\n      <th>0</th>\n      <td>Norway</td>\n      <td>1</td>\n      <td>7.537</td>\n      <td>7.594445</td>\n      <td>7.479556</td>\n      <td>1.616463</td>\n      <td>1.533524</td>\n      <td>0.796667</td>\n      <td>0.635423</td>\n      <td>0.362012</td>\n      <td>0.315964</td>\n      <td>2.277027</td>\n    </tr>\n    <tr>\n      <th>1</th>\n      <td>Denmark</td>\n      <td>2</td>\n      <td>7.522</td>\n      <td>7.581728</td>\n      <td>7.462272</td>\n      <td>1.482383</td>\n      <td>1.551122</td>\n      <td>0.792566</td>\n      <td>0.626007</td>\n      <td>0.355280</td>\n      <td>0.400770</td>\n      <td>2.313707</td>\n    </tr>\n    <tr>\n      <th>2</th>\n      <td>Iceland</td>\n      <td>3</td>\n      <td>7.504</td>\n      <td>7.622030</td>\n      <td>7.385970</td>\n      <td>1.480633</td>\n      <td>1.610574</td>\n      <td>0.833552</td>\n      <td>0.627163</td>\n      <td>0.475540</td>\n      <td>0.153527</td>\n      <td>2.322715</td>\n    </tr>\n    <tr>\n      <th>3</th>\n      <td>Switzerland</td>\n      <td>4</td>\n      <td>7.494</td>\n      <td>7.561772</td>\n      <td>7.426227</td>\n      <td>1.564980</td>\n      <td>1.516912</td>\n      <td>0.858131</td>\n      <td>0.620071</td>\n      <td>0.290549</td>\n      <td>0.367007</td>\n      <td>2.276716</td>\n    </tr>\n    <tr>\n      <th>4</th>\n      <td>Finland</td>\n      <td>5</td>\n      <td>7.469</td>\n      <td>7.527542</td>\n      <td>7.410458</td>\n      <td>1.443572</td>\n      <td>1.540247</td>\n      <td>0.809158</td>\n      <td>0.617951</td>\n      <td>0.245483</td>\n      <td>0.382612</td>\n      <td>2.430182</td>\n    </tr>\n    <tr>\n      <th>...</th>\n      <td>...</td>\n      <td>...</td>\n      <td>...</td>\n      <td>...</td>\n      <td>...</td>\n      <td>...</td>\n      <td>...</td>\n      <td>...</td>\n      <td>...</td>\n      <td>...</td>\n      <td>...</td>\n      <td>...</td>\n    </tr>\n    <tr>\n      <th>162</th>\n      <td>H</td>\n      <td>163</td>\n      <td>0.000</td>\n      <td>0.000000</td>\n      <td>0.000000</td>\n      <td>0.000000</td>\n      <td>0.000000</td>\n      <td>0.000000</td>\n      <td>0.000000</td>\n      <td>0.000000</td>\n      <td>0.000000</td>\n      <td>0.000000</td>\n    </tr>\n    <tr>\n      <th>163</th>\n      <td>I</td>\n      <td>164</td>\n      <td>0.000</td>\n      <td>0.000000</td>\n      <td>0.000000</td>\n      <td>0.000000</td>\n      <td>0.000000</td>\n      <td>0.000000</td>\n      <td>0.000000</td>\n      <td>0.000000</td>\n      <td>0.000000</td>\n      <td>0.000000</td>\n    </tr>\n    <tr>\n      <th>164</th>\n      <td>J</td>\n      <td>165</td>\n      <td>0.000</td>\n      <td>0.000000</td>\n      <td>0.000000</td>\n      <td>0.000000</td>\n      <td>0.000000</td>\n      <td>0.000000</td>\n      <td>0.000000</td>\n      <td>0.000000</td>\n      <td>0.000000</td>\n      <td>0.000000</td>\n    </tr>\n    <tr>\n      <th>165</th>\n      <td>K</td>\n      <td>166</td>\n      <td>0.000</td>\n      <td>0.000000</td>\n      <td>0.000000</td>\n      <td>0.000000</td>\n      <td>0.000000</td>\n      <td>0.000000</td>\n      <td>0.000000</td>\n      <td>0.000000</td>\n      <td>0.000000</td>\n      <td>0.000000</td>\n    </tr>\n    <tr>\n      <th>166</th>\n      <td>L</td>\n      <td>167</td>\n      <td>0.000</td>\n      <td>0.000000</td>\n      <td>0.000000</td>\n      <td>0.000000</td>\n      <td>0.000000</td>\n      <td>0.000000</td>\n      <td>0.000000</td>\n      <td>0.000000</td>\n      <td>0.000000</td>\n      <td>0.000000</td>\n    </tr>\n  </tbody>\n</table>\n<p>167 rows × 12 columns</p>\n</div>"
     },
     "metadata": {}
    }
   ]
  },
  {
   "cell_type": "code",
   "metadata": {
    "cell_id": "79beda40-eaf5-4268-af22-1651d53b1f89",
    "tags": [],
    "deepnote_to_be_reexecuted": false,
    "source_hash": "18ac9369",
    "execution_start": 1647026635304,
    "execution_millis": 117,
    "deepnote_cell_type": "code",
    "deepnote_cell_height": 687.6875
   },
   "source": "# preparacion_regresion_robusta\nX = dataset.drop(['country', 'score'], axis=1)\ny = dataset[['score']]\n\nX_train, X_test, y_train, y_test = train_test_split(\n    X, y,\n    test_size=0.3,\n    random_state=42\n)\n\nestimadores = {\n    'SVR' : SVR(gamma= 'auto', C=1.0, epsilon=0.1),\n    'RANSAC' : RANSACRegressor(),\n    'HUBER' : HuberRegressor(epsilon=1.35)\n}\n\nfor name, estimator in estimadores.items():\n    estimator.fit(X_train, y_train)\n    predictions = estimator.predict(X_test)\n    mse = mean_squared_error(y_test, predictions)\n    print(\"=\"*64)\n    print(name)\n    print(\"MSE: \", f'{mse:.20f}')\n",
   "execution_count": null,
   "outputs": [
    {
     "name": "stdout",
     "text": "================================================================\nSVR\nMSE:  0.07455771301888525215\n================================================================\nRANSAC\nMSE:  0.00000000000000000013\n================================================================\nHUBER\nMSE:  0.00000083002634776897\n",
     "output_type": "stream"
    }
   ]
  },
  {
   "cell_type": "markdown",
   "source": "<a style='text-decoration:none;line-height:16px;display:flex;color:#5B5B62;padding:10px;justify-content:end;' href='https://deepnote.com?utm_source=created-in-deepnote-cell&projectId=183a4102-ed36-4d8f-a68e-0f907c31c07b' target=\"_blank\">\n<img alt='Created in deepnote.com' style='display:inline;max-height:16px;margin:0px;margin-right:7.5px;' src='data:image/svg+xml;base64,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' > </img>\nCreated in <span style='font-weight:600;margin-left:4px;'>Deepnote</span></a>",
   "metadata": {
    "tags": [],
    "created_in_deepnote_cell": true,
    "deepnote_cell_type": "markdown"
   }
  }
 ],
 "nbformat": 4,
 "nbformat_minor": 2,
 "metadata": {
  "orig_nbformat": 2,
  "deepnote": {
   "is_reactive": false
  },
  "deepnote_notebook_id": "127a4fe4-0748-437d-b72b-5af2f857def3",
  "deepnote_execution_queue": []
 }
}