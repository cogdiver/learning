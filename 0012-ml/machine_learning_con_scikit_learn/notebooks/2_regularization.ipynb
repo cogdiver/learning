{
 "cells": [
  {
   "cell_type": "code",
   "metadata": {
    "tags": [],
    "cell_id": "30e59d89-8940-4092-a12b-a4394ed419df",
    "deepnote_to_be_reexecuted": false,
    "source_hash": "8a2234b2",
    "execution_start": 1647001926403,
    "execution_millis": 3,
    "deepnote_cell_type": "code",
    "deepnote_cell_height": 243
   },
   "source": "import pandas as pd\nimport sklearn\n\nfrom sklearn.linear_model import LinearRegression\nfrom sklearn.linear_model import Lasso\nfrom sklearn.linear_model import Ridge\nfrom sklearn.linear_model import ElasticNet\n\nfrom sklearn.model_selection import train_test_split\nfrom sklearn.metrics import mean_squared_error",
   "execution_count": null,
   "outputs": []
  },
  {
   "cell_type": "code",
   "metadata": {
    "cell_id": "19ba2734-8055-4083-b868-629dbc7f119c",
    "tags": [],
    "deepnote_to_be_reexecuted": false,
    "source_hash": "419c768e",
    "execution_start": 1647001861732,
    "execution_millis": 167,
    "deepnote_cell_type": "code",
    "deepnote_cell_height": 551
   },
   "source": "dataset = pd.read_csv('data/felicidad.csv')\ndataset.describe()",
   "execution_count": null,
   "outputs": [
    {
     "output_type": "execute_result",
     "execution_count": 2,
     "data": {
      "application/vnd.deepnote.dataframe.v3+json": {
       "column_count": 11,
       "row_count": 8,
       "columns": [
        {
         "name": "rank",
         "dtype": "float64",
         "stats": {
          "unique_count": 6,
          "nan_count": 0,
          "min": "1.0",
          "max": "155.0",
          "histogram": [
           {
            "bin_start": 1,
            "bin_end": 16.4,
            "count": 1
           },
           {
            "bin_start": 16.4,
            "bin_end": 31.8,
            "count": 0
           },
           {
            "bin_start": 31.8,
            "bin_end": 47.2,
            "count": 2
           },
           {
            "bin_start": 47.2,
            "bin_end": 62.6,
            "count": 0
           },
           {
            "bin_start": 62.6,
            "bin_end": 78,
            "count": 0
           },
           {
            "bin_start": 78,
            "bin_end": 93.4,
            "count": 2
           },
           {
            "bin_start": 93.4,
            "bin_end": 108.8,
            "count": 0
           },
           {
            "bin_start": 108.8,
            "bin_end": 124.2,
            "count": 1
           },
           {
            "bin_start": 124.2,
            "bin_end": 139.6,
            "count": 0
           },
           {
            "bin_start": 139.6,
            "bin_end": 155,
            "count": 2
           }
          ]
         }
        },
        {
         "name": "score",
         "dtype": "float64",
         "stats": {
          "unique_count": 8,
          "nan_count": 0,
          "min": "1.131230089949566",
          "max": "155.0",
          "histogram": [
           {
            "bin_start": 1.131230089949566,
            "bin_end": 16.51810708095461,
            "count": 7
           },
           {
            "bin_start": 16.51810708095461,
            "bin_end": 31.904984071959653,
            "count": 0
           },
           {
            "bin_start": 31.904984071959653,
            "bin_end": 47.2918610629647,
            "count": 0
           },
           {
            "bin_start": 47.2918610629647,
            "bin_end": 62.678738053969745,
            "count": 0
           },
           {
            "bin_start": 62.678738053969745,
            "bin_end": 78.06561504497479,
            "count": 0
           },
           {
            "bin_start": 78.06561504497479,
            "bin_end": 93.45249203597983,
            "count": 0
           },
           {
            "bin_start": 93.45249203597983,
            "bin_end": 108.83936902698488,
            "count": 0
           },
           {
            "bin_start": 108.83936902698488,
            "bin_end": 124.22624601798992,
            "count": 0
           },
           {
            "bin_start": 124.22624601798992,
            "bin_end": 139.61312300899496,
            "count": 0
           },
           {
            "bin_start": 139.61312300899496,
            "bin_end": 155,
            "count": 1
           }
          ]
         }
        },
        {
         "name": "high",
         "dtype": "float64",
         "stats": {
          "unique_count": 8,
          "nan_count": 0,
          "min": "1.1185417144893446",
          "max": "155.0",
          "histogram": [
           {
            "bin_start": 1.1185417144893446,
            "bin_end": 16.50668754304041,
            "count": 7
           },
           {
            "bin_start": 16.50668754304041,
            "bin_end": 31.894833371591474,
            "count": 0
           },
           {
            "bin_start": 31.894833371591474,
            "bin_end": 47.28297920014254,
            "count": 0
           },
           {
            "bin_start": 47.28297920014254,
            "bin_end": 62.67112502869361,
            "count": 0
           },
           {
            "bin_start": 62.67112502869361,
            "bin_end": 78.05927085724467,
            "count": 0
           },
           {
            "bin_start": 78.05927085724467,
            "bin_end": 93.44741668579573,
            "count": 0
           },
           {
            "bin_start": 93.44741668579573,
            "bin_end": 108.8355625143468,
            "count": 0
           },
           {
            "bin_start": 108.8355625143468,
            "bin_end": 124.22370834289787,
            "count": 0
           },
           {
            "bin_start": 124.22370834289787,
            "bin_end": 139.61185417144893,
            "count": 0
           },
           {
            "bin_start": 139.61185417144893,
            "bin_end": 155,
            "count": 1
           }
          ]
         }
        },
        {
         "name": "low",
         "dtype": "float64",
         "stats": {
          "unique_count": 8,
          "nan_count": 0,
          "min": "1.1450297696656409",
          "max": "155.0",
          "histogram": [
           {
            "bin_start": 1.1450297696656409,
            "bin_end": 16.530526792699074,
            "count": 7
           },
           {
            "bin_start": 16.530526792699074,
            "bin_end": 31.91602381573251,
            "count": 0
           },
           {
            "bin_start": 31.91602381573251,
            "bin_end": 47.30152083876594,
            "count": 0
           },
           {
            "bin_start": 47.30152083876594,
            "bin_end": 62.687017861799376,
            "count": 0
           },
           {
            "bin_start": 62.687017861799376,
            "bin_end": 78.07251488483281,
            "count": 0
           },
           {
            "bin_start": 78.07251488483281,
            "bin_end": 93.45801190786624,
            "count": 0
           },
           {
            "bin_start": 93.45801190786624,
            "bin_end": 108.84350893089967,
            "count": 0
           },
           {
            "bin_start": 108.84350893089967,
            "bin_end": 124.22900595393311,
            "count": 0
           },
           {
            "bin_start": 124.22900595393311,
            "bin_end": 139.61450297696655,
            "count": 0
           },
           {
            "bin_start": 139.61450297696655,
            "bin_end": 155,
            "count": 1
           }
          ]
         }
        },
        {
         "name": "gdp",
         "dtype": "float64",
         "stats": {
          "unique_count": 8,
          "nan_count": 0,
          "min": "0.0",
          "max": "155.0",
          "histogram": [
           {
            "bin_start": 0,
            "bin_end": 15.5,
            "count": 7
           },
           {
            "bin_start": 15.5,
            "bin_end": 31,
            "count": 0
           },
           {
            "bin_start": 31,
            "bin_end": 46.5,
            "count": 0
           },
           {
            "bin_start": 46.5,
            "bin_end": 62,
            "count": 0
           },
           {
            "bin_start": 62,
            "bin_end": 77.5,
            "count": 0
           },
           {
            "bin_start": 77.5,
            "bin_end": 93,
            "count": 0
           },
           {
            "bin_start": 93,
            "bin_end": 108.5,
            "count": 0
           },
           {
            "bin_start": 108.5,
            "bin_end": 124,
            "count": 0
           },
           {
            "bin_start": 124,
            "bin_end": 139.5,
            "count": 0
           },
           {
            "bin_start": 139.5,
            "bin_end": 155,
            "count": 1
           }
          ]
         }
        },
        {
         "name": "family",
         "dtype": "float64",
         "stats": {
          "unique_count": 8,
          "nan_count": 0,
          "min": "0.0",
          "max": "155.0",
          "histogram": [
           {
            "bin_start": 0,
            "bin_end": 15.5,
            "count": 7
           },
           {
            "bin_start": 15.5,
            "bin_end": 31,
            "count": 0
           },
           {
            "bin_start": 31,
            "bin_end": 46.5,
            "count": 0
           },
           {
            "bin_start": 46.5,
            "bin_end": 62,
            "count": 0
           },
           {
            "bin_start": 62,
            "bin_end": 77.5,
            "count": 0
           },
           {
            "bin_start": 77.5,
            "bin_end": 93,
            "count": 0
           },
           {
            "bin_start": 93,
            "bin_end": 108.5,
            "count": 0
           },
           {
            "bin_start": 108.5,
            "bin_end": 124,
            "count": 0
           },
           {
            "bin_start": 124,
            "bin_end": 139.5,
            "count": 0
           },
           {
            "bin_start": 139.5,
            "bin_end": 155,
            "count": 1
           }
          ]
         }
        },
        {
         "name": "lifexp",
         "dtype": "float64",
         "stats": {
          "unique_count": 8,
          "nan_count": 0,
          "min": "0.0",
          "max": "155.0",
          "histogram": [
           {
            "bin_start": 0,
            "bin_end": 15.5,
            "count": 7
           },
           {
            "bin_start": 15.5,
            "bin_end": 31,
            "count": 0
           },
           {
            "bin_start": 31,
            "bin_end": 46.5,
            "count": 0
           },
           {
            "bin_start": 46.5,
            "bin_end": 62,
            "count": 0
           },
           {
            "bin_start": 62,
            "bin_end": 77.5,
            "count": 0
           },
           {
            "bin_start": 77.5,
            "bin_end": 93,
            "count": 0
           },
           {
            "bin_start": 93,
            "bin_end": 108.5,
            "count": 0
           },
           {
            "bin_start": 108.5,
            "bin_end": 124,
            "count": 0
           },
           {
            "bin_start": 124,
            "bin_end": 139.5,
            "count": 0
           },
           {
            "bin_start": 139.5,
            "bin_end": 155,
            "count": 1
           }
          ]
         }
        },
        {
         "name": "freedom",
         "dtype": "float64",
         "stats": {
          "unique_count": 8,
          "nan_count": 0,
          "min": "0.0",
          "max": "155.0",
          "histogram": [
           {
            "bin_start": 0,
            "bin_end": 15.5,
            "count": 7
           },
           {
            "bin_start": 15.5,
            "bin_end": 31,
            "count": 0
           },
           {
            "bin_start": 31,
            "bin_end": 46.5,
            "count": 0
           },
           {
            "bin_start": 46.5,
            "bin_end": 62,
            "count": 0
           },
           {
            "bin_start": 62,
            "bin_end": 77.5,
            "count": 0
           },
           {
            "bin_start": 77.5,
            "bin_end": 93,
            "count": 0
           },
           {
            "bin_start": 93,
            "bin_end": 108.5,
            "count": 0
           },
           {
            "bin_start": 108.5,
            "bin_end": 124,
            "count": 0
           },
           {
            "bin_start": 124,
            "bin_end": 139.5,
            "count": 0
           },
           {
            "bin_start": 139.5,
            "bin_end": 155,
            "count": 1
           }
          ]
         }
        },
        {
         "name": "generosity",
         "dtype": "float64",
         "stats": {
          "unique_count": 8,
          "nan_count": 0,
          "min": "0.0",
          "max": "155.0",
          "histogram": [
           {
            "bin_start": 0,
            "bin_end": 15.5,
            "count": 7
           },
           {
            "bin_start": 15.5,
            "bin_end": 31,
            "count": 0
           },
           {
            "bin_start": 31,
            "bin_end": 46.5,
            "count": 0
           },
           {
            "bin_start": 46.5,
            "bin_end": 62,
            "count": 0
           },
           {
            "bin_start": 62,
            "bin_end": 77.5,
            "count": 0
           },
           {
            "bin_start": 77.5,
            "bin_end": 93,
            "count": 0
           },
           {
            "bin_start": 93,
            "bin_end": 108.5,
            "count": 0
           },
           {
            "bin_start": 108.5,
            "bin_end": 124,
            "count": 0
           },
           {
            "bin_start": 124,
            "bin_end": 139.5,
            "count": 0
           },
           {
            "bin_start": 139.5,
            "bin_end": 155,
            "count": 1
           }
          ]
         }
        },
        {
         "name": "corruption",
         "dtype": "float64",
         "stats": {
          "unique_count": 8,
          "nan_count": 0,
          "min": "0.0",
          "max": "155.0",
          "histogram": [
           {
            "bin_start": 0,
            "bin_end": 15.5,
            "count": 7
           },
           {
            "bin_start": 15.5,
            "bin_end": 31,
            "count": 0
           },
           {
            "bin_start": 31,
            "bin_end": 46.5,
            "count": 0
           },
           {
            "bin_start": 46.5,
            "bin_end": 62,
            "count": 0
           },
           {
            "bin_start": 62,
            "bin_end": 77.5,
            "count": 0
           },
           {
            "bin_start": 77.5,
            "bin_end": 93,
            "count": 0
           },
           {
            "bin_start": 93,
            "bin_end": 108.5,
            "count": 0
           },
           {
            "bin_start": 108.5,
            "bin_end": 124,
            "count": 0
           },
           {
            "bin_start": 124,
            "bin_end": 139.5,
            "count": 0
           },
           {
            "bin_start": 139.5,
            "bin_end": 155,
            "count": 1
           }
          ]
         }
        },
        {
         "name": "dystopia",
         "dtype": "float64",
         "stats": {
          "unique_count": 8,
          "nan_count": 0,
          "min": "0.377913713",
          "max": "155.0",
          "histogram": [
           {
            "bin_start": 0.377913713,
            "bin_end": 15.8401223417,
            "count": 7
           },
           {
            "bin_start": 15.8401223417,
            "bin_end": 31.302330970400003,
            "count": 0
           },
           {
            "bin_start": 31.302330970400003,
            "bin_end": 46.764539599100004,
            "count": 0
           },
           {
            "bin_start": 46.764539599100004,
            "bin_end": 62.2267482278,
            "count": 0
           },
           {
            "bin_start": 62.2267482278,
            "bin_end": 77.6889568565,
            "count": 0
           },
           {
            "bin_start": 77.6889568565,
            "bin_end": 93.15116548520001,
            "count": 0
           },
           {
            "bin_start": 93.15116548520001,
            "bin_end": 108.61337411390001,
            "count": 0
           },
           {
            "bin_start": 108.61337411390001,
            "bin_end": 124.0755827426,
            "count": 0
           },
           {
            "bin_start": 124.0755827426,
            "bin_end": 139.53779137130002,
            "count": 0
           },
           {
            "bin_start": 139.53779137130002,
            "bin_end": 155,
            "count": 1
           }
          ]
         }
        },
        {
         "name": "_deepnote_index_column",
         "dtype": "object"
        }
       ],
       "rows": [
        {
         "rank": 155,
         "score": 155,
         "high": 155,
         "low": 155,
         "gdp": 155,
         "family": 155,
         "lifexp": 155,
         "freedom": 155,
         "generosity": 155,
         "corruption": 155,
         "dystopia": 155,
         "_deepnote_index_column": "count"
        },
        {
         "rank": 78,
         "score": 5.354019355774194,
         "high": 5.452325717464516,
         "low": 5.255712994090322,
         "gdp": 0.9847182019096775,
         "family": 1.1888977504645162,
         "lifexp": 0.5513407826580645,
         "freedom": 0.4087859728645162,
         "generosity": 0.24688347161935484,
         "corruption": 0.12312022062580644,
         "dystopia": 1.8502378055935487,
         "_deepnote_index_column": "mean"
        },
        {
         "rank": 44.88875137492688,
         "score": 1.131230089949566,
         "high": 1.1185417144893446,
         "low": 1.1450297696656409,
         "gdp": 0.42079270946386094,
         "family": 0.28726291226969536,
         "lifexp": 0.23707270325491503,
         "freedom": 0.1499973015857622,
         "generosity": 0.1347803580977807,
         "corruption": 0.10166060899510118,
         "dystopia": 0.500028361803277,
         "_deepnote_index_column": "std"
        },
        {
         "rank": 1,
         "score": 2.693000078,
         "high": 2.864884269,
         "low": 2.521115887,
         "gdp": 0,
         "family": 0,
         "lifexp": 0,
         "freedom": 0,
         "generosity": 0,
         "corruption": 0,
         "dystopia": 0.377913713,
         "_deepnote_index_column": "min"
        },
        {
         "rank": 39.5,
         "score": 4.505500078,
         "high": 4.6081718635,
         "low": 4.374954969999999,
         "gdp": 0.663370758,
         "family": 1.042634904,
         "lifexp": 0.3698662965,
         "freedom": 0.3036771715,
         "generosity": 0.1541061475,
         "corruption": 0.0572706685,
         "dystopia": 1.5912914274999999,
         "_deepnote_index_column": "25%"
        },
        {
         "rank": 78,
         "score": 5.278999805,
         "high": 5.370031946,
         "low": 5.193151615,
         "gdp": 1.064577937,
         "family": 1.253917575,
         "lifexp": 0.606041551,
         "freedom": 0.437454283,
         "generosity": 0.231538489,
         "corruption": 0.08984752,
         "dystopia": 1.832909822,
         "_deepnote_index_column": "50%"
        },
        {
         "rank": 116.5,
         "score": 6.1015000345,
         "high": 6.1945996535,
         "low": 6.0065268839999995,
         "gdp": 1.3180273175,
         "family": 1.41431576,
         "lifexp": 0.7230075300000001,
         "freedom": 0.516561389,
         "generosity": 0.323762283,
         "corruption": 0.153296314,
         "dystopia": 2.1446537975,
         "_deepnote_index_column": "75%"
        },
        {
         "rank": 155,
         "score": 7.537000179,
         "high": 7.622030473,
         "low": 7.479555538,
         "gdp": 1.870765686,
         "family": 1.610574007,
         "lifexp": 0.949492395,
         "freedom": 0.658248663,
         "generosity": 0.838075161,
         "corruption": 0.464307785,
         "dystopia": 3.11748457,
         "_deepnote_index_column": "max"
        }
       ]
      },
      "text/plain": "             rank       score        high         low         gdp      family  \\\ncount  155.000000  155.000000  155.000000  155.000000  155.000000  155.000000   \nmean    78.000000    5.354019    5.452326    5.255713    0.984718    1.188898   \nstd     44.888751    1.131230    1.118542    1.145030    0.420793    0.287263   \nmin      1.000000    2.693000    2.864884    2.521116    0.000000    0.000000   \n25%     39.500000    4.505500    4.608172    4.374955    0.663371    1.042635   \n50%     78.000000    5.279000    5.370032    5.193152    1.064578    1.253918   \n75%    116.500000    6.101500    6.194600    6.006527    1.318027    1.414316   \nmax    155.000000    7.537000    7.622030    7.479556    1.870766    1.610574   \n\n           lifexp     freedom  generosity  corruption    dystopia  \ncount  155.000000  155.000000  155.000000  155.000000  155.000000  \nmean     0.551341    0.408786    0.246883    0.123120    1.850238  \nstd      0.237073    0.149997    0.134780    0.101661    0.500028  \nmin      0.000000    0.000000    0.000000    0.000000    0.377914  \n25%      0.369866    0.303677    0.154106    0.057271    1.591291  \n50%      0.606042    0.437454    0.231538    0.089848    1.832910  \n75%      0.723008    0.516561    0.323762    0.153296    2.144654  \nmax      0.949492    0.658249    0.838075    0.464308    3.117485  ",
      "text/html": "<div>\n<style scoped>\n    .dataframe tbody tr th:only-of-type {\n        vertical-align: middle;\n    }\n\n    .dataframe tbody tr th {\n        vertical-align: top;\n    }\n\n    .dataframe thead th {\n        text-align: right;\n    }\n</style>\n<table border=\"1\" class=\"dataframe\">\n  <thead>\n    <tr style=\"text-align: right;\">\n      <th></th>\n      <th>rank</th>\n      <th>score</th>\n      <th>high</th>\n      <th>low</th>\n      <th>gdp</th>\n      <th>family</th>\n      <th>lifexp</th>\n      <th>freedom</th>\n      <th>generosity</th>\n      <th>corruption</th>\n      <th>dystopia</th>\n    </tr>\n  </thead>\n  <tbody>\n    <tr>\n      <th>count</th>\n      <td>155.000000</td>\n      <td>155.000000</td>\n      <td>155.000000</td>\n      <td>155.000000</td>\n      <td>155.000000</td>\n      <td>155.000000</td>\n      <td>155.000000</td>\n      <td>155.000000</td>\n      <td>155.000000</td>\n      <td>155.000000</td>\n      <td>155.000000</td>\n    </tr>\n    <tr>\n      <th>mean</th>\n      <td>78.000000</td>\n      <td>5.354019</td>\n      <td>5.452326</td>\n      <td>5.255713</td>\n      <td>0.984718</td>\n      <td>1.188898</td>\n      <td>0.551341</td>\n      <td>0.408786</td>\n      <td>0.246883</td>\n      <td>0.123120</td>\n      <td>1.850238</td>\n    </tr>\n    <tr>\n      <th>std</th>\n      <td>44.888751</td>\n      <td>1.131230</td>\n      <td>1.118542</td>\n      <td>1.145030</td>\n      <td>0.420793</td>\n      <td>0.287263</td>\n      <td>0.237073</td>\n      <td>0.149997</td>\n      <td>0.134780</td>\n      <td>0.101661</td>\n      <td>0.500028</td>\n    </tr>\n    <tr>\n      <th>min</th>\n      <td>1.000000</td>\n      <td>2.693000</td>\n      <td>2.864884</td>\n      <td>2.521116</td>\n      <td>0.000000</td>\n      <td>0.000000</td>\n      <td>0.000000</td>\n      <td>0.000000</td>\n      <td>0.000000</td>\n      <td>0.000000</td>\n      <td>0.377914</td>\n    </tr>\n    <tr>\n      <th>25%</th>\n      <td>39.500000</td>\n      <td>4.505500</td>\n      <td>4.608172</td>\n      <td>4.374955</td>\n      <td>0.663371</td>\n      <td>1.042635</td>\n      <td>0.369866</td>\n      <td>0.303677</td>\n      <td>0.154106</td>\n      <td>0.057271</td>\n      <td>1.591291</td>\n    </tr>\n    <tr>\n      <th>50%</th>\n      <td>78.000000</td>\n      <td>5.279000</td>\n      <td>5.370032</td>\n      <td>5.193152</td>\n      <td>1.064578</td>\n      <td>1.253918</td>\n      <td>0.606042</td>\n      <td>0.437454</td>\n      <td>0.231538</td>\n      <td>0.089848</td>\n      <td>1.832910</td>\n    </tr>\n    <tr>\n      <th>75%</th>\n      <td>116.500000</td>\n      <td>6.101500</td>\n      <td>6.194600</td>\n      <td>6.006527</td>\n      <td>1.318027</td>\n      <td>1.414316</td>\n      <td>0.723008</td>\n      <td>0.516561</td>\n      <td>0.323762</td>\n      <td>0.153296</td>\n      <td>2.144654</td>\n    </tr>\n    <tr>\n      <th>max</th>\n      <td>155.000000</td>\n      <td>7.537000</td>\n      <td>7.622030</td>\n      <td>7.479556</td>\n      <td>1.870766</td>\n      <td>1.610574</td>\n      <td>0.949492</td>\n      <td>0.658249</td>\n      <td>0.838075</td>\n      <td>0.464308</td>\n      <td>3.117485</td>\n    </tr>\n  </tbody>\n</table>\n</div>"
     },
     "metadata": {}
    }
   ]
  },
  {
   "cell_type": "code",
   "metadata": {
    "cell_id": "d0e9b89d-077c-487b-9414-7affab6d32aa",
    "tags": [],
    "deepnote_to_be_reexecuted": false,
    "source_hash": "94bd900e",
    "execution_start": 1647002552708,
    "execution_millis": 5,
    "deepnote_cell_type": "code",
    "deepnote_cell_height": 844.8125
   },
   "source": "X = dataset[['gdp', 'family', 'lifexp', 'freedom' , 'corruption' , 'generosity', 'dystopia']]\ny = dataset[['score']]\n\n\nX_train, X_test, y_train, y_test = train_test_split(\n    X, y,\n    test_size=0.25,\n    random_state=40\n)\n\nmodelLinear = LinearRegression().fit(X_train, y_train)\ny_predict_linear =  modelLinear.predict(X_test)\nlinear_loss = mean_squared_error(y_test, y_predict_linear)\nprint(\"Linear Loss:\", f\"{linear_loss:.10f}\")\nprint(f\"Coef Linear\", model.coef_)\n\nfor LinearModel, name in [(Lasso,'Lasso'), (Ridge,'Ridge'), (ElasticNet,'ElasticNet')]:\n    print(\"=\"*32)\n    model = LinearModel(alpha=0.02).fit(X_train, y_train)\n    y_predict = model.predict(X_test)\n    loss = mean_squared_error(y_test, y_predict)\n    print(f\"{name} Loss: \", f'{loss:.10f}')\n    print(f\"Coef {name}\", model.coef_)\n\n\n#implementacion_lasso_ridge",
   "execution_count": null,
   "outputs": [
    {
     "name": "stdout",
     "text": "Linear Loss: 0.0000001052\nCoef Linear [1.22111358 0.89246446 0.57643366 0.78494089 0.26941128 0.4410209\n 0.91436549]\n================================\nLasso Loss:  0.0704788107\nCoef Lasso [1.48305677 0.84126058 0.11533876 0.88745181 0.         0.18848353\n 0.89939961]\n================================\nRidge Loss:  0.0000063675\nCoef Ridge [[1.00495535 0.99821491 0.99161733 1.0004611  0.98630854 0.99388015\n  0.99903003]]\n================================\nElasticNet Loss:  0.0300268281\nCoef ElasticNet [1.22111358 0.89246446 0.57643366 0.78494089 0.26941128 0.4410209\n 0.91436549]\n",
     "output_type": "stream"
    }
   ]
  },
  {
   "cell_type": "markdown",
   "source": "<a style='text-decoration:none;line-height:16px;display:flex;color:#5B5B62;padding:10px;justify-content:end;' href='https://deepnote.com?utm_source=created-in-deepnote-cell&projectId=183a4102-ed36-4d8f-a68e-0f907c31c07b' target=\"_blank\">\n<img alt='Created in deepnote.com' style='display:inline;max-height:16px;margin:0px;margin-right:7.5px;' src='data:image/svg+xml;base64,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' > </img>\nCreated in <span style='font-weight:600;margin-left:4px;'>Deepnote</span></a>",
   "metadata": {
    "tags": [],
    "created_in_deepnote_cell": true,
    "deepnote_cell_type": "markdown"
   }
  }
 ],
 "nbformat": 4,
 "nbformat_minor": 2,
 "metadata": {
  "orig_nbformat": 2,
  "deepnote": {
   "is_reactive": false
  },
  "deepnote_notebook_id": "b315f77c-812a-4e61-bbba-3e3b2b54ebba",
  "deepnote_execution_queue": []
 }
}