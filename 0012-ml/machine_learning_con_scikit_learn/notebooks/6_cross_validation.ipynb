{
 "cells": [
  {
   "cell_type": "code",
   "metadata": {
    "tags": [],
    "cell_id": "4e8e5553-0f4d-4db4-bfd6-2f020f7f4d2e",
    "deepnote_to_be_reexecuted": false,
    "source_hash": "79ac787d",
    "execution_start": 1647046571224,
    "execution_millis": 1210,
    "deepnote_cell_type": "code",
    "deepnote_cell_height": 207
   },
   "source": "import pandas as pd\nimport numpy as np\n\nfrom sklearn.tree import DecisionTreeRegressor\n\nfrom sklearn.model_selection import (\n    cross_val_score, KFold\n)",
   "execution_count": null,
   "outputs": []
  },
  {
   "cell_type": "code",
   "metadata": {
    "cell_id": "0214eefa-110e-45ca-866c-90e12070f097",
    "tags": [],
    "deepnote_to_be_reexecuted": false,
    "source_hash": "bf52be13",
    "execution_start": 1647046586067,
    "execution_millis": 223,
    "deepnote_cell_type": "code",
    "deepnote_cell_height": 633
   },
   "source": "dataset = pd.read_csv('data/felicidad.csv')\ndataset",
   "execution_count": null,
   "outputs": [
    {
     "output_type": "execute_result",
     "execution_count": 2,
     "data": {
      "application/vnd.deepnote.dataframe.v3+json": {
       "column_count": 12,
       "row_count": 155,
       "columns": [
        {
         "name": "country",
         "dtype": "object",
         "stats": {
          "unique_count": 155,
          "nan_count": 0,
          "categories": [
           {
            "name": "Norway",
            "count": 1
           },
           {
            "name": "Denmark",
            "count": 1
           },
           {
            "name": "153 others",
            "count": 153
           }
          ]
         }
        },
        {
         "name": "rank",
         "dtype": "int64",
         "stats": {
          "unique_count": 155,
          "nan_count": 0,
          "min": "1",
          "max": "155",
          "histogram": [
           {
            "bin_start": 1,
            "bin_end": 16.4,
            "count": 16
           },
           {
            "bin_start": 16.4,
            "bin_end": 31.8,
            "count": 15
           },
           {
            "bin_start": 31.8,
            "bin_end": 47.2,
            "count": 16
           },
           {
            "bin_start": 47.2,
            "bin_end": 62.6,
            "count": 15
           },
           {
            "bin_start": 62.6,
            "bin_end": 78,
            "count": 15
           },
           {
            "bin_start": 78,
            "bin_end": 93.4,
            "count": 16
           },
           {
            "bin_start": 93.4,
            "bin_end": 108.8,
            "count": 15
           },
           {
            "bin_start": 108.8,
            "bin_end": 124.2,
            "count": 16
           },
           {
            "bin_start": 124.2,
            "bin_end": 139.6,
            "count": 15
           },
           {
            "bin_start": 139.6,
            "bin_end": 155,
            "count": 16
           }
          ]
         }
        },
        {
         "name": "score",
         "dtype": "float64",
         "stats": {
          "unique_count": 151,
          "nan_count": 0,
          "min": "2.693000078",
          "max": "7.537000179",
          "histogram": [
           {
            "bin_start": 2.693000078,
            "bin_end": 3.1774000880999997,
            "count": 2
           },
           {
            "bin_start": 3.1774000880999997,
            "bin_end": 3.6618000981999996,
            "count": 11
           },
           {
            "bin_start": 3.6618000981999996,
            "bin_end": 4.1462001083,
            "count": 13
           },
           {
            "bin_start": 4.1462001083,
            "bin_end": 4.6306001184,
            "count": 20
           },
           {
            "bin_start": 4.6306001184,
            "bin_end": 5.1150001285,
            "count": 16
           },
           {
            "bin_start": 5.1150001285,
            "bin_end": 5.5994001386,
            "count": 27
           },
           {
            "bin_start": 5.5994001386,
            "bin_end": 6.0838001487,
            "count": 24
           },
           {
            "bin_start": 6.0838001487,
            "bin_end": 6.5682001588,
            "count": 16
           },
           {
            "bin_start": 6.5682001588,
            "bin_end": 7.0526001689,
            "count": 14
           },
           {
            "bin_start": 7.0526001689,
            "bin_end": 7.537000179,
            "count": 12
           }
          ]
         }
        },
        {
         "name": "high",
         "dtype": "float64",
         "stats": {
          "unique_count": 155,
          "nan_count": 0,
          "min": "2.864884269",
          "max": "7.622030473",
          "histogram": [
           {
            "bin_start": 2.864884269,
            "bin_end": 3.3405988894,
            "count": 2
           },
           {
            "bin_start": 3.3405988894,
            "bin_end": 3.8163135098,
            "count": 11
           },
           {
            "bin_start": 3.8163135098,
            "bin_end": 4.2920281302,
            "count": 15
           },
           {
            "bin_start": 4.2920281302,
            "bin_end": 4.7677427506,
            "count": 17
           },
           {
            "bin_start": 4.7677427506,
            "bin_end": 5.243457371,
            "count": 18
           },
           {
            "bin_start": 5.243457371,
            "bin_end": 5.7191719914,
            "count": 28
           },
           {
            "bin_start": 5.7191719914,
            "bin_end": 6.194886611799999,
            "count": 25
           },
           {
            "bin_start": 6.194886611799999,
            "bin_end": 6.670601232199999,
            "count": 14
           },
           {
            "bin_start": 6.670601232199999,
            "bin_end": 7.1463158526,
            "count": 13
           },
           {
            "bin_start": 7.1463158526,
            "bin_end": 7.622030473,
            "count": 12
           }
          ]
         }
        },
        {
         "name": "low",
         "dtype": "float64",
         "stats": {
          "unique_count": 155,
          "nan_count": 0,
          "min": "2.521115887",
          "max": "7.479555538",
          "histogram": [
           {
            "bin_start": 2.521115887,
            "bin_end": 3.0169598521,
            "count": 2
           },
           {
            "bin_start": 3.0169598521,
            "bin_end": 3.5128038172,
            "count": 9
           },
           {
            "bin_start": 3.5128038172,
            "bin_end": 4.0086477823,
            "count": 14
           },
           {
            "bin_start": 4.0086477823,
            "bin_end": 4.5044917473999995,
            "count": 20
           },
           {
            "bin_start": 4.5044917473999995,
            "bin_end": 5.0003357125,
            "count": 16
           },
           {
            "bin_start": 5.0003357125,
            "bin_end": 5.496179677599999,
            "count": 28
           },
           {
            "bin_start": 5.496179677599999,
            "bin_end": 5.9920236426999995,
            "count": 26
           },
           {
            "bin_start": 5.9920236426999995,
            "bin_end": 6.487867607799999,
            "count": 15
           },
           {
            "bin_start": 6.487867607799999,
            "bin_end": 6.983711572899999,
            "count": 13
           },
           {
            "bin_start": 6.983711572899999,
            "bin_end": 7.479555538,
            "count": 12
           }
          ]
         }
        },
        {
         "name": "gdp",
         "dtype": "float64",
         "stats": {
          "unique_count": 155,
          "nan_count": 0,
          "min": "0.0",
          "max": "1.870765686",
          "histogram": [
           {
            "bin_start": 0,
            "bin_end": 0.1870765686,
            "count": 6
           },
           {
            "bin_start": 0.1870765686,
            "bin_end": 0.3741531372,
            "count": 11
           },
           {
            "bin_start": 0.3741531372,
            "bin_end": 0.5612297058,
            "count": 13
           },
           {
            "bin_start": 0.5612297058,
            "bin_end": 0.7483062744,
            "count": 15
           },
           {
            "bin_start": 0.7483062744,
            "bin_end": 0.935382843,
            "count": 18
           },
           {
            "bin_start": 0.935382843,
            "bin_end": 1.1224594116,
            "count": 27
           },
           {
            "bin_start": 1.1224594116,
            "bin_end": 1.3095359802,
            "count": 24
           },
           {
            "bin_start": 1.3095359802,
            "bin_end": 1.4966125488,
            "count": 29
           },
           {
            "bin_start": 1.4966125488,
            "bin_end": 1.6836891174,
            "count": 9
           },
           {
            "bin_start": 1.6836891174,
            "bin_end": 1.870765686,
            "count": 3
           }
          ]
         }
        },
        {
         "name": "family",
         "dtype": "float64",
         "stats": {
          "unique_count": 155,
          "nan_count": 0,
          "min": "0.0",
          "max": "1.610574007",
          "histogram": [
           {
            "bin_start": 0,
            "bin_end": 0.16105740070000002,
            "count": 1
           },
           {
            "bin_start": 0.16105740070000002,
            "bin_end": 0.32211480140000004,
            "count": 0
           },
           {
            "bin_start": 0.32211480140000004,
            "bin_end": 0.48317220210000006,
            "count": 3
           },
           {
            "bin_start": 0.48317220210000006,
            "bin_end": 0.6442296028000001,
            "count": 6
           },
           {
            "bin_start": 0.6442296028000001,
            "bin_end": 0.8052870035000002,
            "count": 8
           },
           {
            "bin_start": 0.8052870035000002,
            "bin_end": 0.9663444042000001,
            "count": 12
           },
           {
            "bin_start": 0.9663444042000001,
            "bin_end": 1.1274018049,
            "count": 17
           },
           {
            "bin_start": 1.1274018049,
            "bin_end": 1.2884592056000002,
            "count": 48
           },
           {
            "bin_start": 1.2884592056000002,
            "bin_end": 1.4495166063000002,
            "count": 34
           },
           {
            "bin_start": 1.4495166063000002,
            "bin_end": 1.610574007,
            "count": 26
           }
          ]
         }
        },
        {
         "name": "lifexp",
         "dtype": "float64",
         "stats": {
          "unique_count": 155,
          "nan_count": 0,
          "min": "0.0",
          "max": "0.949492395",
          "histogram": [
           {
            "bin_start": 0,
            "bin_end": 0.0949492395,
            "count": 7
           },
           {
            "bin_start": 0.0949492395,
            "bin_end": 0.189898479,
            "count": 8
           },
           {
            "bin_start": 0.189898479,
            "bin_end": 0.2848477185,
            "count": 11
           },
           {
            "bin_start": 0.2848477185,
            "bin_end": 0.379796958,
            "count": 14
           },
           {
            "bin_start": 0.379796958,
            "bin_end": 0.4747461975,
            "count": 9
           },
           {
            "bin_start": 0.4747461975,
            "bin_end": 0.569695437,
            "count": 18
           },
           {
            "bin_start": 0.569695437,
            "bin_end": 0.6646446765,
            "count": 34
           },
           {
            "bin_start": 0.6646446765,
            "bin_end": 0.759593916,
            "count": 21
           },
           {
            "bin_start": 0.759593916,
            "bin_end": 0.8545431555,
            "count": 27
           },
           {
            "bin_start": 0.8545431555,
            "bin_end": 0.949492395,
            "count": 6
           }
          ]
         }
        },
        {
         "name": "freedom",
         "dtype": "float64",
         "stats": {
          "unique_count": 155,
          "nan_count": 0,
          "min": "0.0",
          "max": "0.658248663",
          "histogram": [
           {
            "bin_start": 0,
            "bin_end": 0.06582486629999999,
            "count": 4
           },
           {
            "bin_start": 0.06582486629999999,
            "bin_end": 0.13164973259999999,
            "count": 5
           },
           {
            "bin_start": 0.13164973259999999,
            "bin_end": 0.19747459889999996,
            "count": 6
           },
           {
            "bin_start": 0.19747459889999996,
            "bin_end": 0.26329946519999997,
            "count": 15
           },
           {
            "bin_start": 0.26329946519999997,
            "bin_end": 0.3291243315,
            "count": 16
           },
           {
            "bin_start": 0.3291243315,
            "bin_end": 0.39494919779999993,
            "count": 15
           },
           {
            "bin_start": 0.39494919779999993,
            "bin_end": 0.46077406409999994,
            "count": 28
           },
           {
            "bin_start": 0.46077406409999994,
            "bin_end": 0.5265989303999999,
            "count": 30
           },
           {
            "bin_start": 0.5265989303999999,
            "bin_end": 0.5924237966999999,
            "count": 21
           },
           {
            "bin_start": 0.5924237966999999,
            "bin_end": 0.658248663,
            "count": 15
           }
          ]
         }
        },
        {
         "name": "generosity",
         "dtype": "float64",
         "stats": {
          "unique_count": 155,
          "nan_count": 0,
          "min": "0.0",
          "max": "0.838075161",
          "histogram": [
           {
            "bin_start": 0,
            "bin_end": 0.0838075161,
            "count": 16
           },
           {
            "bin_start": 0.0838075161,
            "bin_end": 0.1676150322,
            "count": 27
           },
           {
            "bin_start": 0.1676150322,
            "bin_end": 0.2514225483,
            "count": 48
           },
           {
            "bin_start": 0.2514225483,
            "bin_end": 0.3352300644,
            "count": 31
           },
           {
            "bin_start": 0.3352300644,
            "bin_end": 0.41903758050000006,
            "count": 16
           },
           {
            "bin_start": 0.41903758050000006,
            "bin_end": 0.5028450966,
            "count": 13
           },
           {
            "bin_start": 0.5028450966,
            "bin_end": 0.5866526127,
            "count": 2
           },
           {
            "bin_start": 0.5866526127,
            "bin_end": 0.6704601288,
            "count": 1
           },
           {
            "bin_start": 0.6704601288,
            "bin_end": 0.7542676449000001,
            "count": 0
           },
           {
            "bin_start": 0.7542676449000001,
            "bin_end": 0.838075161,
            "count": 1
           }
          ]
         }
        },
        {
         "name": "corruption",
         "dtype": "float64",
         "stats": {
          "unique_count": 155,
          "nan_count": 0,
          "min": "0.0",
          "max": "0.464307785",
          "histogram": [
           {
            "bin_start": 0,
            "bin_end": 0.0464307785,
            "count": 30
           },
           {
            "bin_start": 0.0464307785,
            "bin_end": 0.092861557,
            "count": 52
           },
           {
            "bin_start": 0.092861557,
            "bin_end": 0.1392923355,
            "count": 29
           },
           {
            "bin_start": 0.1392923355,
            "bin_end": 0.185723114,
            "count": 16
           },
           {
            "bin_start": 0.185723114,
            "bin_end": 0.2321538925,
            "count": 3
           },
           {
            "bin_start": 0.2321538925,
            "bin_end": 0.278584671,
            "count": 8
           },
           {
            "bin_start": 0.278584671,
            "bin_end": 0.3250154495,
            "count": 9
           },
           {
            "bin_start": 0.3250154495,
            "bin_end": 0.371446228,
            "count": 1
           },
           {
            "bin_start": 0.371446228,
            "bin_end": 0.4178770065,
            "count": 4
           },
           {
            "bin_start": 0.4178770065,
            "bin_end": 0.464307785,
            "count": 3
           }
          ]
         }
        },
        {
         "name": "dystopia",
         "dtype": "float64",
         "stats": {
          "unique_count": 155,
          "nan_count": 0,
          "min": "0.377913713",
          "max": "3.11748457",
          "histogram": [
           {
            "bin_start": 0.377913713,
            "bin_end": 0.6518707987,
            "count": 5
           },
           {
            "bin_start": 0.6518707987,
            "bin_end": 0.9258278844,
            "count": 1
           },
           {
            "bin_start": 0.9258278844,
            "bin_end": 1.1997849701,
            "count": 8
           },
           {
            "bin_start": 1.1997849701,
            "bin_end": 1.4737420557999998,
            "count": 11
           },
           {
            "bin_start": 1.4737420557999998,
            "bin_end": 1.7476991415,
            "count": 40
           },
           {
            "bin_start": 1.7476991415,
            "bin_end": 2.0216562272,
            "count": 37
           },
           {
            "bin_start": 2.0216562272,
            "bin_end": 2.2956133129,
            "count": 27
           },
           {
            "bin_start": 2.2956133129,
            "bin_end": 2.5695703986,
            "count": 13
           },
           {
            "bin_start": 2.5695703986,
            "bin_end": 2.8435274843,
            "count": 10
           },
           {
            "bin_start": 2.8435274843,
            "bin_end": 3.11748457,
            "count": 3
           }
          ]
         }
        },
        {
         "name": "_deepnote_index_column",
         "dtype": "int64"
        }
       ],
       "rows": [
        {
         "country": "Norway",
         "rank": 1,
         "score": 7.537000179,
         "high": 7.594444821,
         "low": 7.479555538,
         "gdp": 1.616463184,
         "family": 1.53352356,
         "lifexp": 0.796666503,
         "freedom": 0.635422587,
         "generosity": 0.362012237,
         "corruption": 0.315963835,
         "dystopia": 2.277026653,
         "_deepnote_index_column": 0
        },
        {
         "country": "Denmark",
         "rank": 2,
         "score": 7.521999836,
         "high": 7.581728065,
         "low": 7.462271607,
         "gdp": 1.482383013,
         "family": 1.551121593,
         "lifexp": 0.792565525,
         "freedom": 0.626006722,
         "generosity": 0.355280489,
         "corruption": 0.400770068,
         "dystopia": 2.313707352,
         "_deepnote_index_column": 1
        },
        {
         "country": "Iceland",
         "rank": 3,
         "score": 7.504000187,
         "high": 7.622030473,
         "low": 7.385969901,
         "gdp": 1.48063302,
         "family": 1.610574007,
         "lifexp": 0.833552122,
         "freedom": 0.627162635,
         "generosity": 0.475540221,
         "corruption": 0.153526559,
         "dystopia": 2.322715282,
         "_deepnote_index_column": 2
        },
        {
         "country": "Switzerland",
         "rank": 4,
         "score": 7.493999958,
         "high": 7.56177242,
         "low": 7.426227496,
         "gdp": 1.564979553,
         "family": 1.516911745,
         "lifexp": 0.858131289,
         "freedom": 0.620070577,
         "generosity": 0.290549278,
         "corruption": 0.367007285,
         "dystopia": 2.276716232,
         "_deepnote_index_column": 3
        },
        {
         "country": "Finland",
         "rank": 5,
         "score": 7.468999863,
         "high": 7.527542076,
         "low": 7.41045765,
         "gdp": 1.443571925,
         "family": 1.540246725,
         "lifexp": 0.80915767,
         "freedom": 0.617950857,
         "generosity": 0.245482773,
         "corruption": 0.382611543,
         "dystopia": 2.430181503,
         "_deepnote_index_column": 4
        },
        {
         "country": "Netherlands",
         "rank": 6,
         "score": 7.376999855,
         "high": 7.427425841,
         "low": 7.326573869,
         "gdp": 1.503944635,
         "family": 1.428939223,
         "lifexp": 0.810696125,
         "freedom": 0.585384488,
         "generosity": 0.47048983,
         "corruption": 0.282661825,
         "dystopia": 2.294804096,
         "_deepnote_index_column": 5
        },
        {
         "country": "Canada",
         "rank": 7,
         "score": 7.315999985,
         "high": 7.384402835,
         "low": 7.247597134,
         "gdp": 1.479204416,
         "family": 1.481348991,
         "lifexp": 0.834557652,
         "freedom": 0.611100912,
         "generosity": 0.435539722,
         "corruption": 0.287371516,
         "dystopia": 2.187264442,
         "_deepnote_index_column": 6
        },
        {
         "country": "New Zealand",
         "rank": 8,
         "score": 7.31400013,
         "high": 7.379510442,
         "low": 7.248489818,
         "gdp": 1.405706048,
         "family": 1.548195124,
         "lifexp": 0.816759706,
         "freedom": 0.61406213,
         "generosity": 0.500005126,
         "corruption": 0.382816702,
         "dystopia": 2.046456337,
         "_deepnote_index_column": 7
        },
        {
         "country": "Sweden",
         "rank": 9,
         "score": 7.28399992,
         "high": 7.344094877,
         "low": 7.223904962,
         "gdp": 1.494387269,
         "family": 1.478162169,
         "lifexp": 0.830875158,
         "freedom": 0.612924099,
         "generosity": 0.385399252,
         "corruption": 0.384398729,
         "dystopia": 2.097537994,
         "_deepnote_index_column": 8
        },
        {
         "country": "Australia",
         "rank": 10,
         "score": 7.28399992,
         "high": 7.356651225,
         "low": 7.211348615,
         "gdp": 1.484414935,
         "family": 1.510041952,
         "lifexp": 0.843886793,
         "freedom": 0.601607382,
         "generosity": 0.47769925,
         "corruption": 0.30118373,
         "dystopia": 2.065210819,
         "_deepnote_index_column": 9
        }
       ]
      },
      "text/plain": "                      country  rank  score      high       low       gdp  \\\n0                      Norway     1  7.537  7.594445  7.479556  1.616463   \n1                     Denmark     2  7.522  7.581728  7.462272  1.482383   \n2                     Iceland     3  7.504  7.622030  7.385970  1.480633   \n3                 Switzerland     4  7.494  7.561772  7.426227  1.564980   \n4                     Finland     5  7.469  7.527542  7.410458  1.443572   \n..                        ...   ...    ...       ...       ...       ...   \n150                    Rwanda   151  3.471  3.543030  3.398970  0.368746   \n151                     Syria   152  3.462  3.663669  3.260331  0.777153   \n152                  Tanzania   153  3.349  3.461430  3.236570  0.511136   \n153                   Burundi   154  2.905  3.074690  2.735310  0.091623   \n154  Central African Republic   155  2.693  2.864884  2.521116  0.000000   \n\n       family    lifexp   freedom  generosity  corruption  dystopia  \n0    1.533524  0.796667  0.635423    0.362012    0.315964  2.277027  \n1    1.551122  0.792566  0.626007    0.355280    0.400770  2.313707  \n2    1.610574  0.833552  0.627163    0.475540    0.153527  2.322715  \n3    1.516912  0.858131  0.620071    0.290549    0.367007  2.276716  \n4    1.540247  0.809158  0.617951    0.245483    0.382612  2.430182  \n..        ...       ...       ...         ...         ...       ...  \n150  0.945707  0.326425  0.581844    0.252756    0.455220  0.540061  \n151  0.396103  0.500533  0.081539    0.493664    0.151347  1.061574  \n152  1.041990  0.364509  0.390018    0.354256    0.066035  0.621130  \n153  0.629794  0.151611  0.059901    0.204435    0.084148  1.683024  \n154  0.000000  0.018773  0.270842    0.280876    0.056565  2.066005  \n\n[155 rows x 12 columns]",
      "text/html": "<div>\n<style scoped>\n    .dataframe tbody tr th:only-of-type {\n        vertical-align: middle;\n    }\n\n    .dataframe tbody tr th {\n        vertical-align: top;\n    }\n\n    .dataframe thead th {\n        text-align: right;\n    }\n</style>\n<table border=\"1\" class=\"dataframe\">\n  <thead>\n    <tr style=\"text-align: right;\">\n      <th></th>\n      <th>country</th>\n      <th>rank</th>\n      <th>score</th>\n      <th>high</th>\n      <th>low</th>\n      <th>gdp</th>\n      <th>family</th>\n      <th>lifexp</th>\n      <th>freedom</th>\n      <th>generosity</th>\n      <th>corruption</th>\n      <th>dystopia</th>\n    </tr>\n  </thead>\n  <tbody>\n    <tr>\n      <th>0</th>\n      <td>Norway</td>\n      <td>1</td>\n      <td>7.537</td>\n      <td>7.594445</td>\n      <td>7.479556</td>\n      <td>1.616463</td>\n      <td>1.533524</td>\n      <td>0.796667</td>\n      <td>0.635423</td>\n      <td>0.362012</td>\n      <td>0.315964</td>\n      <td>2.277027</td>\n    </tr>\n    <tr>\n      <th>1</th>\n      <td>Denmark</td>\n      <td>2</td>\n      <td>7.522</td>\n      <td>7.581728</td>\n      <td>7.462272</td>\n      <td>1.482383</td>\n      <td>1.551122</td>\n      <td>0.792566</td>\n      <td>0.626007</td>\n      <td>0.355280</td>\n      <td>0.400770</td>\n      <td>2.313707</td>\n    </tr>\n    <tr>\n      <th>2</th>\n      <td>Iceland</td>\n      <td>3</td>\n      <td>7.504</td>\n      <td>7.622030</td>\n      <td>7.385970</td>\n      <td>1.480633</td>\n      <td>1.610574</td>\n      <td>0.833552</td>\n      <td>0.627163</td>\n      <td>0.475540</td>\n      <td>0.153527</td>\n      <td>2.322715</td>\n    </tr>\n    <tr>\n      <th>3</th>\n      <td>Switzerland</td>\n      <td>4</td>\n      <td>7.494</td>\n      <td>7.561772</td>\n      <td>7.426227</td>\n      <td>1.564980</td>\n      <td>1.516912</td>\n      <td>0.858131</td>\n      <td>0.620071</td>\n      <td>0.290549</td>\n      <td>0.367007</td>\n      <td>2.276716</td>\n    </tr>\n    <tr>\n      <th>4</th>\n      <td>Finland</td>\n      <td>5</td>\n      <td>7.469</td>\n      <td>7.527542</td>\n      <td>7.410458</td>\n      <td>1.443572</td>\n      <td>1.540247</td>\n      <td>0.809158</td>\n      <td>0.617951</td>\n      <td>0.245483</td>\n      <td>0.382612</td>\n      <td>2.430182</td>\n    </tr>\n    <tr>\n      <th>...</th>\n      <td>...</td>\n      <td>...</td>\n      <td>...</td>\n      <td>...</td>\n      <td>...</td>\n      <td>...</td>\n      <td>...</td>\n      <td>...</td>\n      <td>...</td>\n      <td>...</td>\n      <td>...</td>\n      <td>...</td>\n    </tr>\n    <tr>\n      <th>150</th>\n      <td>Rwanda</td>\n      <td>151</td>\n      <td>3.471</td>\n      <td>3.543030</td>\n      <td>3.398970</td>\n      <td>0.368746</td>\n      <td>0.945707</td>\n      <td>0.326425</td>\n      <td>0.581844</td>\n      <td>0.252756</td>\n      <td>0.455220</td>\n      <td>0.540061</td>\n    </tr>\n    <tr>\n      <th>151</th>\n      <td>Syria</td>\n      <td>152</td>\n      <td>3.462</td>\n      <td>3.663669</td>\n      <td>3.260331</td>\n      <td>0.777153</td>\n      <td>0.396103</td>\n      <td>0.500533</td>\n      <td>0.081539</td>\n      <td>0.493664</td>\n      <td>0.151347</td>\n      <td>1.061574</td>\n    </tr>\n    <tr>\n      <th>152</th>\n      <td>Tanzania</td>\n      <td>153</td>\n      <td>3.349</td>\n      <td>3.461430</td>\n      <td>3.236570</td>\n      <td>0.511136</td>\n      <td>1.041990</td>\n      <td>0.364509</td>\n      <td>0.390018</td>\n      <td>0.354256</td>\n      <td>0.066035</td>\n      <td>0.621130</td>\n    </tr>\n    <tr>\n      <th>153</th>\n      <td>Burundi</td>\n      <td>154</td>\n      <td>2.905</td>\n      <td>3.074690</td>\n      <td>2.735310</td>\n      <td>0.091623</td>\n      <td>0.629794</td>\n      <td>0.151611</td>\n      <td>0.059901</td>\n      <td>0.204435</td>\n      <td>0.084148</td>\n      <td>1.683024</td>\n    </tr>\n    <tr>\n      <th>154</th>\n      <td>Central African Republic</td>\n      <td>155</td>\n      <td>2.693</td>\n      <td>2.864884</td>\n      <td>2.521116</td>\n      <td>0.000000</td>\n      <td>0.000000</td>\n      <td>0.018773</td>\n      <td>0.270842</td>\n      <td>0.280876</td>\n      <td>0.056565</td>\n      <td>2.066005</td>\n    </tr>\n  </tbody>\n</table>\n<p>155 rows × 12 columns</p>\n</div>"
     },
     "metadata": {}
    }
   ]
  },
  {
   "cell_type": "code",
   "metadata": {
    "cell_id": "cf67af51-131f-4683-8f1c-9b1f53778e30",
    "tags": [],
    "deepnote_to_be_reexecuted": false,
    "source_hash": "36228232",
    "execution_start": 1647046811661,
    "execution_millis": 68,
    "deepnote_cell_type": "code",
    "deepnote_cell_height": 467.3125
   },
   "source": "X = dataset.drop(['country', 'score'], axis=1)\ny = dataset['score']\n\nmodel = DecisionTreeRegressor()\nscore = cross_val_score(model, X,y, cv= 3, scoring='neg_mean_squared_error')\nprint(np.abs(np.mean(score)))\n\nkf = KFold(n_splits=3, shuffle=True, random_state=42)\nfor train, test in kf.split(dataset):\n    print(train.shape)\n    print(test.shape)\n\n#implementacion_cross_validation\n",
   "execution_count": null,
   "outputs": [
    {
     "name": "stdout",
     "text": "0.6491253223596525\n(103,)\n(52,)\n(103,)\n(52,)\n(104,)\n(51,)\n",
     "output_type": "stream"
    }
   ]
  },
  {
   "cell_type": "markdown",
   "source": "<a style='text-decoration:none;line-height:16px;display:flex;color:#5B5B62;padding:10px;justify-content:end;' href='https://deepnote.com?utm_source=created-in-deepnote-cell&projectId=183a4102-ed36-4d8f-a68e-0f907c31c07b' target=\"_blank\">\n<img alt='Created in deepnote.com' style='display:inline;max-height:16px;margin:0px;margin-right:7.5px;' src='data:image/svg+xml;base64,PD94bWwgdmVyc2lvbj0iMS4wIiBlbmNvZGluZz0iVVRGLTgiPz4KPHN2ZyB3aWR0aD0iODBweCIgaGVpZ2h0PSI4MHB4IiB2aWV3Qm94PSIwIDAgODAgODAiIHZlcnNpb249IjEuMSIgeG1sbnM9Imh0dHA6Ly93d3cudzMub3JnLzIwMDAvc3ZnIiB4bWxuczp4bGluaz0iaHR0cDovL3d3dy53My5vcmcvMTk5OS94bGluayI+CiAgICA8IS0tIEdlbmVyYXRvcjogU2tldGNoIDU0LjEgKDc2NDkwKSAtIGh0dHBzOi8vc2tldGNoYXBwLmNvbSAtLT4KICAgIDx0aXRsZT5Hcm91cCAzPC90aXRsZT4KICAgIDxkZXNjPkNyZWF0ZWQgd2l0aCBTa2V0Y2guPC9kZXNjPgogICAgPGcgaWQ9IkxhbmRpbmciIHN0cm9rZT0ibm9uZSIgc3Ryb2tlLXdpZHRoPSIxIiBmaWxsPSJub25lIiBmaWxsLXJ1bGU9ImV2ZW5vZGQiPgogICAgICAgIDxnIGlkPSJBcnRib2FyZCIgdHJhbnNmb3JtPSJ0cmFuc2xhdGUoLTEyMzUuMDAwMDAwLCAtNzkuMDAwMDAwKSI+CiAgICAgICAgICAgIDxnIGlkPSJHcm91cC0zIiB0cmFuc2Zvcm09InRyYW5zbGF0ZSgxMjM1LjAwMDAwMCwgNzkuMDAwMDAwKSI+CiAgICAgICAgICAgICAgICA8cG9seWdvbiBpZD0iUGF0aC0yMCIgZmlsbD0iIzAyNjVCNCIgcG9pbnRzPSIyLjM3NjIzNzYyIDgwIDM4LjA0NzY2NjcgODAgNTcuODIxNzgyMiA3My44MDU3NTkyIDU3LjgyMTc4MjIgMzIuNzU5MjczOSAzOS4xNDAyMjc4IDMxLjY4MzE2ODMiPjwvcG9seWdvbj4KICAgICAgICAgICAgICAgIDxwYXRoIGQ9Ik0zNS4wMDc3MTgsODAgQzQyLjkwNjIwMDcsNzYuNDU0OTM1OCA0Ny41NjQ5MTY3LDcxLjU0MjI2NzEgNDguOTgzODY2LDY1LjI2MTk5MzkgQzUxLjExMjI4OTksNTUuODQxNTg0MiA0MS42NzcxNzk1LDQ5LjIxMjIyODQgMjUuNjIzOTg0Niw0OS4yMTIyMjg0IEMyNS40ODQ5Mjg5LDQ5LjEyNjg0NDggMjkuODI2MTI5Niw0My4yODM4MjQ4IDM4LjY0NzU4NjksMzEuNjgzMTY4MyBMNzIuODcxMjg3MSwzMi41NTQ0MjUgTDY1LjI4MDk3Myw2Ny42NzYzNDIxIEw1MS4xMTIyODk5LDc3LjM3NjE0NCBMMzUuMDA3NzE4LDgwIFoiIGlkPSJQYXRoLTIyIiBmaWxsPSIjMDAyODY4Ij48L3BhdGg+CiAgICAgICAgICAgICAgICA8cGF0aCBkPSJNMCwzNy43MzA0NDA1IEwyNy4xMTQ1MzcsMC4yNTcxMTE0MzYgQzYyLjM3MTUxMjMsLTEuOTkwNzE3MDEgODAsMTAuNTAwMzkyNyA4MCwzNy43MzA0NDA1IEM4MCw2NC45NjA0ODgyIDY0Ljc3NjUwMzgsNzkuMDUwMzQxNCAzNC4zMjk1MTEzLDgwIEM0Ny4wNTUzNDg5LDc3LjU2NzA4MDggNTMuNDE4MjY3Nyw3MC4zMTM2MTAzIDUzLjQxODI2NzcsNTguMjM5NTg4NSBDNTMuNDE4MjY3Nyw0MC4xMjg1NTU3IDM2LjMwMzk1NDQsMzcuNzMwNDQwNSAyNS4yMjc0MTcsMzcuNzMwNDQwNSBDMTcuODQzMDU4NiwzNy43MzA0NDA1IDkuNDMzOTE5NjYsMzcuNzMwNDQwNSAwLDM3LjczMDQ0MDUgWiIgaWQ9IlBhdGgtMTkiIGZpbGw9IiMzNzkzRUYiPjwvcGF0aD4KICAgICAgICAgICAgPC9nPgogICAgICAgIDwvZz4KICAgIDwvZz4KPC9zdmc+' > </img>\nCreated in <span style='font-weight:600;margin-left:4px;'>Deepnote</span></a>",
   "metadata": {
    "tags": [],
    "created_in_deepnote_cell": true,
    "deepnote_cell_type": "markdown"
   }
  }
 ],
 "nbformat": 4,
 "nbformat_minor": 2,
 "metadata": {
  "orig_nbformat": 2,
  "deepnote": {
   "is_reactive": false
  },
  "deepnote_notebook_id": "7d625f62-724a-4677-b842-3cf36edb3df8",
  "deepnote_execution_queue": []
 }
}