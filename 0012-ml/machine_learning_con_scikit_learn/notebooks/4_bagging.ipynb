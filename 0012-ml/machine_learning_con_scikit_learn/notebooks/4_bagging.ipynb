{
 "cells": [
  {
   "cell_type": "code",
   "metadata": {
    "tags": [],
    "cell_id": "19fcde8f-7671-4fe0-895d-afe40e87a89a",
    "deepnote_to_be_reexecuted": false,
    "source_hash": "c647031b",
    "execution_start": 1647045326557,
    "execution_millis": 0,
    "deepnote_cell_type": "code",
    "deepnote_cell_height": 351
   },
   "source": "import pandas as pd\n\nfrom sklearn.neighbors import KNeighborsClassifier\nfrom sklearn.ensemble import BaggingClassifier\n\nfrom sklearn.model_selection import train_test_split\nfrom sklearn.metrics import accuracy_score\n\nfrom sklearn.svm import LinearSVC\nfrom sklearn.svm import SVC\nfrom sklearn.linear_model import SGDClassifier\nfrom sklearn.tree import DecisionTreeClassifier\nfrom sklearn.ensemble import GradientBoostingClassifier\n\nimport warnings\nwarnings.simplefilter(\"ignore\")",
   "execution_count": null,
   "outputs": []
  },
  {
   "cell_type": "code",
   "metadata": {
    "cell_id": "d26df725-a4dc-4436-b974-6b7cfe332c99",
    "tags": [],
    "deepnote_to_be_reexecuted": false,
    "source_hash": "7743dba4",
    "execution_start": 1647044865238,
    "execution_millis": 35,
    "deepnote_cell_type": "code",
    "deepnote_cell_height": 307.6875,
    "deepnote_output_heights": [
     174.6875
    ]
   },
   "source": "# prepacion_datos_bagging\ndt_heart = pd.read_csv('data/heart.csv')\ndt_heart['target'].describe()",
   "execution_count": null,
   "outputs": [
    {
     "output_type": "execute_result",
     "execution_count": 3,
     "data": {
      "text/plain": "count    1025.000000\nmean        0.513171\nstd         0.500070\nmin         0.000000\n25%         0.000000\n50%         1.000000\n75%         1.000000\nmax         1.000000\nName: target, dtype: float64"
     },
     "metadata": {}
    }
   ]
  },
  {
   "cell_type": "code",
   "metadata": {
    "cell_id": "2ec97577-91af-41fd-8ca2-34346ac9601c",
    "tags": [],
    "deepnote_to_be_reexecuted": false,
    "source_hash": "7990e3c9",
    "execution_start": 1647045518172,
    "execution_millis": 5375,
    "deepnote_cell_type": "code",
    "deepnote_cell_height": 1121.375
   },
   "source": "X = dt_heart.drop(['target'], axis=1)\ny = dt_heart['target']\n\nX_train, X_test, y_train, y_test = train_test_split(\n    X, y,\n    test_size=0.35,\n    random_state=42\n)\n\nestimators = {\n    \"KNeighbors\": KNeighborsClassifier,\n    'LinearSCV': LinearSVC,\n    'SVC': SVC,\n    'SGDC': SGDClassifier,\n    'DecisionTree': DecisionTreeClassifier,\n}\n\n\nfor name, estimator in estimators.items():\n    print('*'*50)\n    estimator_class = estimator().fit(X_train, y_train)\n    estimator_pred = estimator_class.predict(X_test)\n    value = accuracy_score(estimator_pred, y_test)\n    print(f'Accuracy {name}:', f'{value:.10f}')\n\n    estimator_class = BaggingClassifier(base_estimator=estimator(), n_estimators=50).fit(X_train, y_train)\n    estimator_pred = estimator_class.predict(X_test)\n    value = accuracy_score(estimator_pred, y_test)\n    print(f'Accuracy BaggingClassifier with {name}:', f'{value:.10f}')\n\nprint('*'*50)\n\nestimator_class = GradientBoostingClassifier(n_estimators=50).fit(X_train, y_train)\nestimator_pred = estimator_class.predict(X_test)\nvalue = accuracy_score(estimator_pred, y_test)\nprint(f'Accuracy GradientBoostingClassifier:', f'{value:.10f}')\n\nprint('*'*50)",
   "execution_count": null,
   "outputs": [
    {
     "name": "stdout",
     "text": "**************************************************\nAccuracy KNeighbors: 0.6908077994\nAccuracy BaggingClassifier with KNeighbors: 0.7186629526\n**************************************************\nAccuracy LinearSCV: 0.8189415042\nAccuracy BaggingClassifier with LinearSCV: 0.7938718663\n**************************************************\nAccuracy SVC: 0.6685236769\nAccuracy BaggingClassifier with SVC: 0.6685236769\n**************************************************\nAccuracy SGDC: 0.7325905292\nAccuracy BaggingClassifier with SGDC: 0.6824512535\n**************************************************\nAccuracy DecisionTree: 0.9637883008\nAccuracy BaggingClassifier with DecisionTree: 0.9916434540\n**************************************************\nAccuracy GradientBoostingClassifier: 0.9359331476\n**************************************************\n",
     "output_type": "stream"
    }
   ]
  },
  {
   "cell_type": "markdown",
   "source": "<a style='text-decoration:none;line-height:16px;display:flex;color:#5B5B62;padding:10px;justify-content:end;' href='https://deepnote.com?utm_source=created-in-deepnote-cell&projectId=183a4102-ed36-4d8f-a68e-0f907c31c07b' target=\"_blank\">\n<img alt='Created in deepnote.com' style='display:inline;max-height:16px;margin:0px;margin-right:7.5px;' src='data:image/svg+xml;base64,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' > </img>\nCreated in <span style='font-weight:600;margin-left:4px;'>Deepnote</span></a>",
   "metadata": {
    "tags": [],
    "created_in_deepnote_cell": true,
    "deepnote_cell_type": "markdown"
   }
  }
 ],
 "nbformat": 4,
 "nbformat_minor": 2,
 "metadata": {
  "orig_nbformat": 2,
  "deepnote": {
   "is_reactive": false
  },
  "deepnote_notebook_id": "937dae39-2a50-45a7-8421-c8a0634906e5",
  "deepnote_execution_queue": []
 }
}