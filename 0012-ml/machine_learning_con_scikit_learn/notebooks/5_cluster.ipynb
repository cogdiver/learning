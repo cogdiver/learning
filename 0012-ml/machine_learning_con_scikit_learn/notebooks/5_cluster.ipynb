{
 "cells": [
  {
   "cell_type": "code",
   "metadata": {
    "tags": [],
    "cell_id": "299b37fb-19d3-4cef-b81d-c5b479b6492c",
    "deepnote_to_be_reexecuted": false,
    "source_hash": "b50e010f",
    "execution_start": 1647045981136,
    "execution_millis": 0,
    "deepnote_cell_type": "code",
    "deepnote_cell_height": 135
   },
   "source": "import pandas as pd\n\nfrom sklearn.cluster import MiniBatchKMeans\nfrom sklearn.cluster import MeanShift",
   "execution_count": null,
   "outputs": []
  },
  {
   "cell_type": "code",
   "metadata": {
    "cell_id": "362ea0ac-a080-45cb-a7bc-79d29cb949cd",
    "tags": [],
    "deepnote_to_be_reexecuted": false,
    "source_hash": "1e220480",
    "execution_start": 1647045715244,
    "execution_millis": 139,
    "deepnote_cell_type": "code",
    "deepnote_cell_height": 633
   },
   "source": "dataset = pd.read_csv('data/candy.csv')\ndataset",
   "execution_count": null,
   "outputs": [
    {
     "output_type": "execute_result",
     "execution_count": 3,
     "data": {
      "application/vnd.deepnote.dataframe.v3+json": {
       "column_count": 13,
       "row_count": 85,
       "columns": [
        {
         "name": "competitorname",
         "dtype": "object",
         "stats": {
          "unique_count": 85,
          "nan_count": 0,
          "categories": [
           {
            "name": "100 Grand",
            "count": 1
           },
           {
            "name": "3 Musketeers",
            "count": 1
           },
           {
            "name": "83 others",
            "count": 83
           }
          ]
         }
        },
        {
         "name": "chocolate",
         "dtype": "int64",
         "stats": {
          "unique_count": 2,
          "nan_count": 0,
          "min": "0",
          "max": "1",
          "histogram": [
           {
            "bin_start": 0,
            "bin_end": 0.1,
            "count": 48
           },
           {
            "bin_start": 0.1,
            "bin_end": 0.2,
            "count": 0
           },
           {
            "bin_start": 0.2,
            "bin_end": 0.30000000000000004,
            "count": 0
           },
           {
            "bin_start": 0.30000000000000004,
            "bin_end": 0.4,
            "count": 0
           },
           {
            "bin_start": 0.4,
            "bin_end": 0.5,
            "count": 0
           },
           {
            "bin_start": 0.5,
            "bin_end": 0.6000000000000001,
            "count": 0
           },
           {
            "bin_start": 0.6000000000000001,
            "bin_end": 0.7000000000000001,
            "count": 0
           },
           {
            "bin_start": 0.7000000000000001,
            "bin_end": 0.8,
            "count": 0
           },
           {
            "bin_start": 0.8,
            "bin_end": 0.9,
            "count": 0
           },
           {
            "bin_start": 0.9,
            "bin_end": 1,
            "count": 37
           }
          ]
         }
        },
        {
         "name": "fruity",
         "dtype": "int64",
         "stats": {
          "unique_count": 2,
          "nan_count": 0,
          "min": "0",
          "max": "1",
          "histogram": [
           {
            "bin_start": 0,
            "bin_end": 0.1,
            "count": 47
           },
           {
            "bin_start": 0.1,
            "bin_end": 0.2,
            "count": 0
           },
           {
            "bin_start": 0.2,
            "bin_end": 0.30000000000000004,
            "count": 0
           },
           {
            "bin_start": 0.30000000000000004,
            "bin_end": 0.4,
            "count": 0
           },
           {
            "bin_start": 0.4,
            "bin_end": 0.5,
            "count": 0
           },
           {
            "bin_start": 0.5,
            "bin_end": 0.6000000000000001,
            "count": 0
           },
           {
            "bin_start": 0.6000000000000001,
            "bin_end": 0.7000000000000001,
            "count": 0
           },
           {
            "bin_start": 0.7000000000000001,
            "bin_end": 0.8,
            "count": 0
           },
           {
            "bin_start": 0.8,
            "bin_end": 0.9,
            "count": 0
           },
           {
            "bin_start": 0.9,
            "bin_end": 1,
            "count": 38
           }
          ]
         }
        },
        {
         "name": "caramel",
         "dtype": "int64",
         "stats": {
          "unique_count": 2,
          "nan_count": 0,
          "min": "0",
          "max": "1",
          "histogram": [
           {
            "bin_start": 0,
            "bin_end": 0.1,
            "count": 71
           },
           {
            "bin_start": 0.1,
            "bin_end": 0.2,
            "count": 0
           },
           {
            "bin_start": 0.2,
            "bin_end": 0.30000000000000004,
            "count": 0
           },
           {
            "bin_start": 0.30000000000000004,
            "bin_end": 0.4,
            "count": 0
           },
           {
            "bin_start": 0.4,
            "bin_end": 0.5,
            "count": 0
           },
           {
            "bin_start": 0.5,
            "bin_end": 0.6000000000000001,
            "count": 0
           },
           {
            "bin_start": 0.6000000000000001,
            "bin_end": 0.7000000000000001,
            "count": 0
           },
           {
            "bin_start": 0.7000000000000001,
            "bin_end": 0.8,
            "count": 0
           },
           {
            "bin_start": 0.8,
            "bin_end": 0.9,
            "count": 0
           },
           {
            "bin_start": 0.9,
            "bin_end": 1,
            "count": 14
           }
          ]
         }
        },
        {
         "name": "peanutyalmondy",
         "dtype": "int64",
         "stats": {
          "unique_count": 2,
          "nan_count": 0,
          "min": "0",
          "max": "1",
          "histogram": [
           {
            "bin_start": 0,
            "bin_end": 0.1,
            "count": 71
           },
           {
            "bin_start": 0.1,
            "bin_end": 0.2,
            "count": 0
           },
           {
            "bin_start": 0.2,
            "bin_end": 0.30000000000000004,
            "count": 0
           },
           {
            "bin_start": 0.30000000000000004,
            "bin_end": 0.4,
            "count": 0
           },
           {
            "bin_start": 0.4,
            "bin_end": 0.5,
            "count": 0
           },
           {
            "bin_start": 0.5,
            "bin_end": 0.6000000000000001,
            "count": 0
           },
           {
            "bin_start": 0.6000000000000001,
            "bin_end": 0.7000000000000001,
            "count": 0
           },
           {
            "bin_start": 0.7000000000000001,
            "bin_end": 0.8,
            "count": 0
           },
           {
            "bin_start": 0.8,
            "bin_end": 0.9,
            "count": 0
           },
           {
            "bin_start": 0.9,
            "bin_end": 1,
            "count": 14
           }
          ]
         }
        },
        {
         "name": "nougat",
         "dtype": "int64",
         "stats": {
          "unique_count": 2,
          "nan_count": 0,
          "min": "0",
          "max": "1",
          "histogram": [
           {
            "bin_start": 0,
            "bin_end": 0.1,
            "count": 78
           },
           {
            "bin_start": 0.1,
            "bin_end": 0.2,
            "count": 0
           },
           {
            "bin_start": 0.2,
            "bin_end": 0.30000000000000004,
            "count": 0
           },
           {
            "bin_start": 0.30000000000000004,
            "bin_end": 0.4,
            "count": 0
           },
           {
            "bin_start": 0.4,
            "bin_end": 0.5,
            "count": 0
           },
           {
            "bin_start": 0.5,
            "bin_end": 0.6000000000000001,
            "count": 0
           },
           {
            "bin_start": 0.6000000000000001,
            "bin_end": 0.7000000000000001,
            "count": 0
           },
           {
            "bin_start": 0.7000000000000001,
            "bin_end": 0.8,
            "count": 0
           },
           {
            "bin_start": 0.8,
            "bin_end": 0.9,
            "count": 0
           },
           {
            "bin_start": 0.9,
            "bin_end": 1,
            "count": 7
           }
          ]
         }
        },
        {
         "name": "crispedricewafer",
         "dtype": "int64",
         "stats": {
          "unique_count": 2,
          "nan_count": 0,
          "min": "0",
          "max": "1",
          "histogram": [
           {
            "bin_start": 0,
            "bin_end": 0.1,
            "count": 78
           },
           {
            "bin_start": 0.1,
            "bin_end": 0.2,
            "count": 0
           },
           {
            "bin_start": 0.2,
            "bin_end": 0.30000000000000004,
            "count": 0
           },
           {
            "bin_start": 0.30000000000000004,
            "bin_end": 0.4,
            "count": 0
           },
           {
            "bin_start": 0.4,
            "bin_end": 0.5,
            "count": 0
           },
           {
            "bin_start": 0.5,
            "bin_end": 0.6000000000000001,
            "count": 0
           },
           {
            "bin_start": 0.6000000000000001,
            "bin_end": 0.7000000000000001,
            "count": 0
           },
           {
            "bin_start": 0.7000000000000001,
            "bin_end": 0.8,
            "count": 0
           },
           {
            "bin_start": 0.8,
            "bin_end": 0.9,
            "count": 0
           },
           {
            "bin_start": 0.9,
            "bin_end": 1,
            "count": 7
           }
          ]
         }
        },
        {
         "name": "hard",
         "dtype": "int64",
         "stats": {
          "unique_count": 2,
          "nan_count": 0,
          "min": "0",
          "max": "1",
          "histogram": [
           {
            "bin_start": 0,
            "bin_end": 0.1,
            "count": 70
           },
           {
            "bin_start": 0.1,
            "bin_end": 0.2,
            "count": 0
           },
           {
            "bin_start": 0.2,
            "bin_end": 0.30000000000000004,
            "count": 0
           },
           {
            "bin_start": 0.30000000000000004,
            "bin_end": 0.4,
            "count": 0
           },
           {
            "bin_start": 0.4,
            "bin_end": 0.5,
            "count": 0
           },
           {
            "bin_start": 0.5,
            "bin_end": 0.6000000000000001,
            "count": 0
           },
           {
            "bin_start": 0.6000000000000001,
            "bin_end": 0.7000000000000001,
            "count": 0
           },
           {
            "bin_start": 0.7000000000000001,
            "bin_end": 0.8,
            "count": 0
           },
           {
            "bin_start": 0.8,
            "bin_end": 0.9,
            "count": 0
           },
           {
            "bin_start": 0.9,
            "bin_end": 1,
            "count": 15
           }
          ]
         }
        },
        {
         "name": "bar",
         "dtype": "int64",
         "stats": {
          "unique_count": 2,
          "nan_count": 0,
          "min": "0",
          "max": "1",
          "histogram": [
           {
            "bin_start": 0,
            "bin_end": 0.1,
            "count": 64
           },
           {
            "bin_start": 0.1,
            "bin_end": 0.2,
            "count": 0
           },
           {
            "bin_start": 0.2,
            "bin_end": 0.30000000000000004,
            "count": 0
           },
           {
            "bin_start": 0.30000000000000004,
            "bin_end": 0.4,
            "count": 0
           },
           {
            "bin_start": 0.4,
            "bin_end": 0.5,
            "count": 0
           },
           {
            "bin_start": 0.5,
            "bin_end": 0.6000000000000001,
            "count": 0
           },
           {
            "bin_start": 0.6000000000000001,
            "bin_end": 0.7000000000000001,
            "count": 0
           },
           {
            "bin_start": 0.7000000000000001,
            "bin_end": 0.8,
            "count": 0
           },
           {
            "bin_start": 0.8,
            "bin_end": 0.9,
            "count": 0
           },
           {
            "bin_start": 0.9,
            "bin_end": 1,
            "count": 21
           }
          ]
         }
        },
        {
         "name": "pluribus",
         "dtype": "int64",
         "stats": {
          "unique_count": 2,
          "nan_count": 0,
          "min": "0",
          "max": "1",
          "histogram": [
           {
            "bin_start": 0,
            "bin_end": 0.1,
            "count": 41
           },
           {
            "bin_start": 0.1,
            "bin_end": 0.2,
            "count": 0
           },
           {
            "bin_start": 0.2,
            "bin_end": 0.30000000000000004,
            "count": 0
           },
           {
            "bin_start": 0.30000000000000004,
            "bin_end": 0.4,
            "count": 0
           },
           {
            "bin_start": 0.4,
            "bin_end": 0.5,
            "count": 0
           },
           {
            "bin_start": 0.5,
            "bin_end": 0.6000000000000001,
            "count": 0
           },
           {
            "bin_start": 0.6000000000000001,
            "bin_end": 0.7000000000000001,
            "count": 0
           },
           {
            "bin_start": 0.7000000000000001,
            "bin_end": 0.8,
            "count": 0
           },
           {
            "bin_start": 0.8,
            "bin_end": 0.9,
            "count": 0
           },
           {
            "bin_start": 0.9,
            "bin_end": 1,
            "count": 44
           }
          ]
         }
        },
        {
         "name": "sugarpercent",
         "dtype": "float64",
         "stats": {
          "unique_count": 34,
          "nan_count": 0,
          "min": "0.011",
          "max": "0.98799998",
          "histogram": [
           {
            "bin_start": 0.011,
            "bin_end": 0.10869999799999999,
            "count": 10
           },
           {
            "bin_start": 0.10869999799999999,
            "bin_end": 0.206399996,
            "count": 8
           },
           {
            "bin_start": 0.206399996,
            "bin_end": 0.304099994,
            "count": 8
           },
           {
            "bin_start": 0.304099994,
            "bin_end": 0.401799992,
            "count": 8
           },
           {
            "bin_start": 0.401799992,
            "bin_end": 0.49949999,
            "count": 12
           },
           {
            "bin_start": 0.49949999,
            "bin_end": 0.597199988,
            "count": 5
           },
           {
            "bin_start": 0.597199988,
            "bin_end": 0.694899986,
            "count": 10
           },
           {
            "bin_start": 0.694899986,
            "bin_end": 0.792599984,
            "count": 9
           },
           {
            "bin_start": 0.792599984,
            "bin_end": 0.8902999819999999,
            "count": 7
           },
           {
            "bin_start": 0.8902999819999999,
            "bin_end": 0.98799998,
            "count": 8
           }
          ]
         }
        },
        {
         "name": "pricepercent",
         "dtype": "float64",
         "stats": {
          "unique_count": 29,
          "nan_count": 0,
          "min": "0.011",
          "max": "0.97600001",
          "histogram": [
           {
            "bin_start": 0.011,
            "bin_end": 0.107500001,
            "count": 9
           },
           {
            "bin_start": 0.107500001,
            "bin_end": 0.204000002,
            "count": 9
           },
           {
            "bin_start": 0.204000002,
            "bin_end": 0.300500003,
            "count": 8
           },
           {
            "bin_start": 0.300500003,
            "bin_end": 0.397000004,
            "count": 11
           },
           {
            "bin_start": 0.397000004,
            "bin_end": 0.493500005,
            "count": 6
           },
           {
            "bin_start": 0.493500005,
            "bin_end": 0.590000006,
            "count": 12
           },
           {
            "bin_start": 0.590000006,
            "bin_end": 0.686500007,
            "count": 9
           },
           {
            "bin_start": 0.686500007,
            "bin_end": 0.783000008,
            "count": 7
           },
           {
            "bin_start": 0.783000008,
            "bin_end": 0.879500009,
            "count": 6
           },
           {
            "bin_start": 0.879500009,
            "bin_end": 0.97600001,
            "count": 8
           }
          ]
         }
        },
        {
         "name": "winpercent",
         "dtype": "float64",
         "stats": {
          "unique_count": 85,
          "nan_count": 0,
          "min": "22.445341",
          "max": "84.18029",
          "histogram": [
           {
            "bin_start": 22.445341,
            "bin_end": 28.6188359,
            "count": 5
           },
           {
            "bin_start": 28.6188359,
            "bin_end": 34.7923308,
            "count": 8
           },
           {
            "bin_start": 34.7923308,
            "bin_end": 40.965825699999996,
            "count": 12
           },
           {
            "bin_start": 40.965825699999996,
            "bin_end": 47.1393206,
            "count": 16
           },
           {
            "bin_start": 47.1393206,
            "bin_end": 53.3128155,
            "count": 10
           },
           {
            "bin_start": 53.3128155,
            "bin_end": 59.486310399999994,
            "count": 11
           },
           {
            "bin_start": 59.486310399999994,
            "bin_end": 65.65980529999999,
            "count": 6
           },
           {
            "bin_start": 65.65980529999999,
            "bin_end": 71.8333002,
            "count": 9
           },
           {
            "bin_start": 71.8333002,
            "bin_end": 78.0067951,
            "count": 5
           },
           {
            "bin_start": 78.0067951,
            "bin_end": 84.18029,
            "count": 3
           }
          ]
         }
        },
        {
         "name": "_deepnote_index_column",
         "dtype": "int64"
        }
       ],
       "rows": [
        {
         "competitorname": "100 Grand",
         "chocolate": 1,
         "fruity": 0,
         "caramel": 1,
         "peanutyalmondy": 0,
         "nougat": 0,
         "crispedricewafer": 1,
         "hard": 0,
         "bar": 1,
         "pluribus": 0,
         "sugarpercent": 0.73199999,
         "pricepercent": 0.86000001,
         "winpercent": 66.971725,
         "_deepnote_index_column": 0
        },
        {
         "competitorname": "3 Musketeers",
         "chocolate": 1,
         "fruity": 0,
         "caramel": 0,
         "peanutyalmondy": 0,
         "nougat": 1,
         "crispedricewafer": 0,
         "hard": 0,
         "bar": 1,
         "pluribus": 0,
         "sugarpercent": 0.60399997,
         "pricepercent": 0.51099998,
         "winpercent": 67.602936,
         "_deepnote_index_column": 1
        },
        {
         "competitorname": "One dime",
         "chocolate": 0,
         "fruity": 0,
         "caramel": 0,
         "peanutyalmondy": 0,
         "nougat": 0,
         "crispedricewafer": 0,
         "hard": 0,
         "bar": 0,
         "pluribus": 0,
         "sugarpercent": 0.011,
         "pricepercent": 0.116,
         "winpercent": 32.261086,
         "_deepnote_index_column": 2
        },
        {
         "competitorname": "One quarter",
         "chocolate": 0,
         "fruity": 0,
         "caramel": 0,
         "peanutyalmondy": 0,
         "nougat": 0,
         "crispedricewafer": 0,
         "hard": 0,
         "bar": 0,
         "pluribus": 0,
         "sugarpercent": 0.011,
         "pricepercent": 0.51099998,
         "winpercent": 46.116505,
         "_deepnote_index_column": 3
        },
        {
         "competitorname": "Air Heads",
         "chocolate": 0,
         "fruity": 1,
         "caramel": 0,
         "peanutyalmondy": 0,
         "nougat": 0,
         "crispedricewafer": 0,
         "hard": 0,
         "bar": 0,
         "pluribus": 0,
         "sugarpercent": 0.90600002,
         "pricepercent": 0.51099998,
         "winpercent": 52.341465,
         "_deepnote_index_column": 4
        },
        {
         "competitorname": "Almond Joy",
         "chocolate": 1,
         "fruity": 0,
         "caramel": 0,
         "peanutyalmondy": 1,
         "nougat": 0,
         "crispedricewafer": 0,
         "hard": 0,
         "bar": 1,
         "pluribus": 0,
         "sugarpercent": 0.465,
         "pricepercent": 0.76700002,
         "winpercent": 50.347546,
         "_deepnote_index_column": 5
        },
        {
         "competitorname": "Baby Ruth",
         "chocolate": 1,
         "fruity": 0,
         "caramel": 1,
         "peanutyalmondy": 1,
         "nougat": 1,
         "crispedricewafer": 0,
         "hard": 0,
         "bar": 1,
         "pluribus": 0,
         "sugarpercent": 0.60399997,
         "pricepercent": 0.76700002,
         "winpercent": 56.914547,
         "_deepnote_index_column": 6
        },
        {
         "competitorname": "Boston Baked Beans",
         "chocolate": 0,
         "fruity": 0,
         "caramel": 0,
         "peanutyalmondy": 1,
         "nougat": 0,
         "crispedricewafer": 0,
         "hard": 0,
         "bar": 0,
         "pluribus": 1,
         "sugarpercent": 0.31299999,
         "pricepercent": 0.51099998,
         "winpercent": 23.417824,
         "_deepnote_index_column": 7
        },
        {
         "competitorname": "Candy Corn",
         "chocolate": 0,
         "fruity": 0,
         "caramel": 0,
         "peanutyalmondy": 0,
         "nougat": 0,
         "crispedricewafer": 0,
         "hard": 0,
         "bar": 0,
         "pluribus": 1,
         "sugarpercent": 0.90600002,
         "pricepercent": 0.32499999,
         "winpercent": 38.010963,
         "_deepnote_index_column": 8
        },
        {
         "competitorname": "Caramel Apple Pops",
         "chocolate": 0,
         "fruity": 1,
         "caramel": 1,
         "peanutyalmondy": 0,
         "nougat": 0,
         "crispedricewafer": 0,
         "hard": 0,
         "bar": 0,
         "pluribus": 0,
         "sugarpercent": 0.60399997,
         "pricepercent": 0.32499999,
         "winpercent": 34.517681,
         "_deepnote_index_column": 9
        }
       ]
      },
      "text/plain": "                competitorname  chocolate  fruity  caramel  peanutyalmondy  \\\n0                    100 Grand          1       0        1               0   \n1                 3 Musketeers          1       0        0               0   \n2                     One dime          0       0        0               0   \n3                  One quarter          0       0        0               0   \n4                    Air Heads          0       1        0               0   \n..                         ...        ...     ...      ...             ...   \n80                   Twizzlers          0       1        0               0   \n81                    Warheads          0       1        0               0   \n82        WelchÕs Fruit Snacks          0       1        0               0   \n83  WertherÕs Original Caramel          0       0        1               0   \n84                    Whoppers          1       0        0               0   \n\n    nougat  crispedricewafer  hard  bar  pluribus  sugarpercent  pricepercent  \\\n0        0                 1     0    1         0         0.732         0.860   \n1        1                 0     0    1         0         0.604         0.511   \n2        0                 0     0    0         0         0.011         0.116   \n3        0                 0     0    0         0         0.011         0.511   \n4        0                 0     0    0         0         0.906         0.511   \n..     ...               ...   ...  ...       ...           ...           ...   \n80       0                 0     0    0         0         0.220         0.116   \n81       0                 0     1    0         0         0.093         0.116   \n82       0                 0     0    0         1         0.313         0.313   \n83       0                 0     1    0         0         0.186         0.267   \n84       0                 1     0    0         1         0.872         0.848   \n\n    winpercent  \n0    66.971725  \n1    67.602936  \n2    32.261086  \n3    46.116505  \n4    52.341465  \n..         ...  \n80   45.466282  \n81   39.011898  \n82   44.375519  \n83   41.904308  \n84   49.524113  \n\n[85 rows x 13 columns]",
      "text/html": "<div>\n<style scoped>\n    .dataframe tbody tr th:only-of-type {\n        vertical-align: middle;\n    }\n\n    .dataframe tbody tr th {\n        vertical-align: top;\n    }\n\n    .dataframe thead th {\n        text-align: right;\n    }\n</style>\n<table border=\"1\" class=\"dataframe\">\n  <thead>\n    <tr style=\"text-align: right;\">\n      <th></th>\n      <th>competitorname</th>\n      <th>chocolate</th>\n      <th>fruity</th>\n      <th>caramel</th>\n      <th>peanutyalmondy</th>\n      <th>nougat</th>\n      <th>crispedricewafer</th>\n      <th>hard</th>\n      <th>bar</th>\n      <th>pluribus</th>\n      <th>sugarpercent</th>\n      <th>pricepercent</th>\n      <th>winpercent</th>\n    </tr>\n  </thead>\n  <tbody>\n    <tr>\n      <th>0</th>\n      <td>100 Grand</td>\n      <td>1</td>\n      <td>0</td>\n      <td>1</td>\n      <td>0</td>\n      <td>0</td>\n      <td>1</td>\n      <td>0</td>\n      <td>1</td>\n      <td>0</td>\n      <td>0.732</td>\n      <td>0.860</td>\n      <td>66.971725</td>\n    </tr>\n    <tr>\n      <th>1</th>\n      <td>3 Musketeers</td>\n      <td>1</td>\n      <td>0</td>\n      <td>0</td>\n      <td>0</td>\n      <td>1</td>\n      <td>0</td>\n      <td>0</td>\n      <td>1</td>\n      <td>0</td>\n      <td>0.604</td>\n      <td>0.511</td>\n      <td>67.602936</td>\n    </tr>\n    <tr>\n      <th>2</th>\n      <td>One dime</td>\n      <td>0</td>\n      <td>0</td>\n      <td>0</td>\n      <td>0</td>\n      <td>0</td>\n      <td>0</td>\n      <td>0</td>\n      <td>0</td>\n      <td>0</td>\n      <td>0.011</td>\n      <td>0.116</td>\n      <td>32.261086</td>\n    </tr>\n    <tr>\n      <th>3</th>\n      <td>One quarter</td>\n      <td>0</td>\n      <td>0</td>\n      <td>0</td>\n      <td>0</td>\n      <td>0</td>\n      <td>0</td>\n      <td>0</td>\n      <td>0</td>\n      <td>0</td>\n      <td>0.011</td>\n      <td>0.511</td>\n      <td>46.116505</td>\n    </tr>\n    <tr>\n      <th>4</th>\n      <td>Air Heads</td>\n      <td>0</td>\n      <td>1</td>\n      <td>0</td>\n      <td>0</td>\n      <td>0</td>\n      <td>0</td>\n      <td>0</td>\n      <td>0</td>\n      <td>0</td>\n      <td>0.906</td>\n      <td>0.511</td>\n      <td>52.341465</td>\n    </tr>\n    <tr>\n      <th>...</th>\n      <td>...</td>\n      <td>...</td>\n      <td>...</td>\n      <td>...</td>\n      <td>...</td>\n      <td>...</td>\n      <td>...</td>\n      <td>...</td>\n      <td>...</td>\n      <td>...</td>\n      <td>...</td>\n      <td>...</td>\n      <td>...</td>\n    </tr>\n    <tr>\n      <th>80</th>\n      <td>Twizzlers</td>\n      <td>0</td>\n      <td>1</td>\n      <td>0</td>\n      <td>0</td>\n      <td>0</td>\n      <td>0</td>\n      <td>0</td>\n      <td>0</td>\n      <td>0</td>\n      <td>0.220</td>\n      <td>0.116</td>\n      <td>45.466282</td>\n    </tr>\n    <tr>\n      <th>81</th>\n      <td>Warheads</td>\n      <td>0</td>\n      <td>1</td>\n      <td>0</td>\n      <td>0</td>\n      <td>0</td>\n      <td>0</td>\n      <td>1</td>\n      <td>0</td>\n      <td>0</td>\n      <td>0.093</td>\n      <td>0.116</td>\n      <td>39.011898</td>\n    </tr>\n    <tr>\n      <th>82</th>\n      <td>WelchÕs Fruit Snacks</td>\n      <td>0</td>\n      <td>1</td>\n      <td>0</td>\n      <td>0</td>\n      <td>0</td>\n      <td>0</td>\n      <td>0</td>\n      <td>0</td>\n      <td>1</td>\n      <td>0.313</td>\n      <td>0.313</td>\n      <td>44.375519</td>\n    </tr>\n    <tr>\n      <th>83</th>\n      <td>WertherÕs Original Caramel</td>\n      <td>0</td>\n      <td>0</td>\n      <td>1</td>\n      <td>0</td>\n      <td>0</td>\n      <td>0</td>\n      <td>1</td>\n      <td>0</td>\n      <td>0</td>\n      <td>0.186</td>\n      <td>0.267</td>\n      <td>41.904308</td>\n    </tr>\n    <tr>\n      <th>84</th>\n      <td>Whoppers</td>\n      <td>1</td>\n      <td>0</td>\n      <td>0</td>\n      <td>0</td>\n      <td>0</td>\n      <td>1</td>\n      <td>0</td>\n      <td>0</td>\n      <td>1</td>\n      <td>0.872</td>\n      <td>0.848</td>\n      <td>49.524113</td>\n    </tr>\n  </tbody>\n</table>\n<p>85 rows × 13 columns</p>\n</div>"
     },
     "metadata": {}
    }
   ]
  },
  {
   "cell_type": "markdown",
   "source": "# MiniBatchKMeans",
   "metadata": {
    "cell_id": "c663f41a-a64b-4e6a-83c5-7adf432a17f3",
    "tags": [],
    "is_collapsed": false,
    "deepnote_cell_type": "text-cell-h1",
    "deepnote_cell_height": 82
   }
  },
  {
   "cell_type": "code",
   "metadata": {
    "cell_id": "4f059fe2-ccf3-4d8f-a42a-9e272af753ab",
    "tags": [],
    "deepnote_to_be_reexecuted": false,
    "source_hash": "e47dd97c",
    "execution_start": 1647045834260,
    "execution_millis": 129,
    "deepnote_cell_type": "code",
    "deepnote_cell_height": 390.9375
   },
   "source": "# implementacion_k_means\n\ndataset = pd.read_csv('data/candy.csv')\nX = dataset.drop('competitorname', axis=1)\n\nkmeans = MiniBatchKMeans(n_clusters=4, batch_size=8).fit(X)\n\nprint(\"Total de centros: \" , len(kmeans.cluster_centers_))\nprint(\"=\"*64)\nprint(kmeans.predict(X))\n\ndataset['group'] = kmeans.predict(X)",
   "execution_count": null,
   "outputs": [
    {
     "name": "stdout",
     "text": "Total de centros:  4\n================================================================\n[3 3 2 0 0 0 0 2 2 2 2 2 2 2 2 0 2 0 0 2 0 2 0 3 0 3 2 0 1 2 2 0 1 3 0 0 1\n 3 3 0 0 0 3 3 2 2 0 3 2 2 2 1 1 1 1 2 3 2 0 2 3 0 2 0 1 3 3 0 3 2 2 2 2 0\n 0 0 0 0 0 1 0 2 0 2 0]\n",
     "output_type": "stream"
    }
   ]
  },
  {
   "cell_type": "code",
   "metadata": {
    "cell_id": "000a8639-a17a-4994-b055-c26df77b8690",
    "tags": [],
    "deepnote_to_be_reexecuted": false,
    "source_hash": "10724ecb",
    "execution_start": 1647045839211,
    "execution_millis": 132,
    "deepnote_cell_type": "code",
    "deepnote_cell_height": 615
   },
   "source": "dataset",
   "execution_count": null,
   "outputs": [
    {
     "output_type": "execute_result",
     "execution_count": 5,
     "data": {
      "application/vnd.deepnote.dataframe.v3+json": {
       "column_count": 14,
       "row_count": 85,
       "columns": [
        {
         "name": "competitorname",
         "dtype": "object",
         "stats": {
          "unique_count": 85,
          "nan_count": 0,
          "categories": [
           {
            "name": "100 Grand",
            "count": 1
           },
           {
            "name": "3 Musketeers",
            "count": 1
           },
           {
            "name": "83 others",
            "count": 83
           }
          ]
         }
        },
        {
         "name": "chocolate",
         "dtype": "int64",
         "stats": {
          "unique_count": 2,
          "nan_count": 0,
          "min": "0",
          "max": "1",
          "histogram": [
           {
            "bin_start": 0,
            "bin_end": 0.1,
            "count": 48
           },
           {
            "bin_start": 0.1,
            "bin_end": 0.2,
            "count": 0
           },
           {
            "bin_start": 0.2,
            "bin_end": 0.30000000000000004,
            "count": 0
           },
           {
            "bin_start": 0.30000000000000004,
            "bin_end": 0.4,
            "count": 0
           },
           {
            "bin_start": 0.4,
            "bin_end": 0.5,
            "count": 0
           },
           {
            "bin_start": 0.5,
            "bin_end": 0.6000000000000001,
            "count": 0
           },
           {
            "bin_start": 0.6000000000000001,
            "bin_end": 0.7000000000000001,
            "count": 0
           },
           {
            "bin_start": 0.7000000000000001,
            "bin_end": 0.8,
            "count": 0
           },
           {
            "bin_start": 0.8,
            "bin_end": 0.9,
            "count": 0
           },
           {
            "bin_start": 0.9,
            "bin_end": 1,
            "count": 37
           }
          ]
         }
        },
        {
         "name": "fruity",
         "dtype": "int64",
         "stats": {
          "unique_count": 2,
          "nan_count": 0,
          "min": "0",
          "max": "1",
          "histogram": [
           {
            "bin_start": 0,
            "bin_end": 0.1,
            "count": 47
           },
           {
            "bin_start": 0.1,
            "bin_end": 0.2,
            "count": 0
           },
           {
            "bin_start": 0.2,
            "bin_end": 0.30000000000000004,
            "count": 0
           },
           {
            "bin_start": 0.30000000000000004,
            "bin_end": 0.4,
            "count": 0
           },
           {
            "bin_start": 0.4,
            "bin_end": 0.5,
            "count": 0
           },
           {
            "bin_start": 0.5,
            "bin_end": 0.6000000000000001,
            "count": 0
           },
           {
            "bin_start": 0.6000000000000001,
            "bin_end": 0.7000000000000001,
            "count": 0
           },
           {
            "bin_start": 0.7000000000000001,
            "bin_end": 0.8,
            "count": 0
           },
           {
            "bin_start": 0.8,
            "bin_end": 0.9,
            "count": 0
           },
           {
            "bin_start": 0.9,
            "bin_end": 1,
            "count": 38
           }
          ]
         }
        },
        {
         "name": "caramel",
         "dtype": "int64",
         "stats": {
          "unique_count": 2,
          "nan_count": 0,
          "min": "0",
          "max": "1",
          "histogram": [
           {
            "bin_start": 0,
            "bin_end": 0.1,
            "count": 71
           },
           {
            "bin_start": 0.1,
            "bin_end": 0.2,
            "count": 0
           },
           {
            "bin_start": 0.2,
            "bin_end": 0.30000000000000004,
            "count": 0
           },
           {
            "bin_start": 0.30000000000000004,
            "bin_end": 0.4,
            "count": 0
           },
           {
            "bin_start": 0.4,
            "bin_end": 0.5,
            "count": 0
           },
           {
            "bin_start": 0.5,
            "bin_end": 0.6000000000000001,
            "count": 0
           },
           {
            "bin_start": 0.6000000000000001,
            "bin_end": 0.7000000000000001,
            "count": 0
           },
           {
            "bin_start": 0.7000000000000001,
            "bin_end": 0.8,
            "count": 0
           },
           {
            "bin_start": 0.8,
            "bin_end": 0.9,
            "count": 0
           },
           {
            "bin_start": 0.9,
            "bin_end": 1,
            "count": 14
           }
          ]
         }
        },
        {
         "name": "peanutyalmondy",
         "dtype": "int64",
         "stats": {
          "unique_count": 2,
          "nan_count": 0,
          "min": "0",
          "max": "1",
          "histogram": [
           {
            "bin_start": 0,
            "bin_end": 0.1,
            "count": 71
           },
           {
            "bin_start": 0.1,
            "bin_end": 0.2,
            "count": 0
           },
           {
            "bin_start": 0.2,
            "bin_end": 0.30000000000000004,
            "count": 0
           },
           {
            "bin_start": 0.30000000000000004,
            "bin_end": 0.4,
            "count": 0
           },
           {
            "bin_start": 0.4,
            "bin_end": 0.5,
            "count": 0
           },
           {
            "bin_start": 0.5,
            "bin_end": 0.6000000000000001,
            "count": 0
           },
           {
            "bin_start": 0.6000000000000001,
            "bin_end": 0.7000000000000001,
            "count": 0
           },
           {
            "bin_start": 0.7000000000000001,
            "bin_end": 0.8,
            "count": 0
           },
           {
            "bin_start": 0.8,
            "bin_end": 0.9,
            "count": 0
           },
           {
            "bin_start": 0.9,
            "bin_end": 1,
            "count": 14
           }
          ]
         }
        },
        {
         "name": "nougat",
         "dtype": "int64",
         "stats": {
          "unique_count": 2,
          "nan_count": 0,
          "min": "0",
          "max": "1",
          "histogram": [
           {
            "bin_start": 0,
            "bin_end": 0.1,
            "count": 78
           },
           {
            "bin_start": 0.1,
            "bin_end": 0.2,
            "count": 0
           },
           {
            "bin_start": 0.2,
            "bin_end": 0.30000000000000004,
            "count": 0
           },
           {
            "bin_start": 0.30000000000000004,
            "bin_end": 0.4,
            "count": 0
           },
           {
            "bin_start": 0.4,
            "bin_end": 0.5,
            "count": 0
           },
           {
            "bin_start": 0.5,
            "bin_end": 0.6000000000000001,
            "count": 0
           },
           {
            "bin_start": 0.6000000000000001,
            "bin_end": 0.7000000000000001,
            "count": 0
           },
           {
            "bin_start": 0.7000000000000001,
            "bin_end": 0.8,
            "count": 0
           },
           {
            "bin_start": 0.8,
            "bin_end": 0.9,
            "count": 0
           },
           {
            "bin_start": 0.9,
            "bin_end": 1,
            "count": 7
           }
          ]
         }
        },
        {
         "name": "crispedricewafer",
         "dtype": "int64",
         "stats": {
          "unique_count": 2,
          "nan_count": 0,
          "min": "0",
          "max": "1",
          "histogram": [
           {
            "bin_start": 0,
            "bin_end": 0.1,
            "count": 78
           },
           {
            "bin_start": 0.1,
            "bin_end": 0.2,
            "count": 0
           },
           {
            "bin_start": 0.2,
            "bin_end": 0.30000000000000004,
            "count": 0
           },
           {
            "bin_start": 0.30000000000000004,
            "bin_end": 0.4,
            "count": 0
           },
           {
            "bin_start": 0.4,
            "bin_end": 0.5,
            "count": 0
           },
           {
            "bin_start": 0.5,
            "bin_end": 0.6000000000000001,
            "count": 0
           },
           {
            "bin_start": 0.6000000000000001,
            "bin_end": 0.7000000000000001,
            "count": 0
           },
           {
            "bin_start": 0.7000000000000001,
            "bin_end": 0.8,
            "count": 0
           },
           {
            "bin_start": 0.8,
            "bin_end": 0.9,
            "count": 0
           },
           {
            "bin_start": 0.9,
            "bin_end": 1,
            "count": 7
           }
          ]
         }
        },
        {
         "name": "hard",
         "dtype": "int64",
         "stats": {
          "unique_count": 2,
          "nan_count": 0,
          "min": "0",
          "max": "1",
          "histogram": [
           {
            "bin_start": 0,
            "bin_end": 0.1,
            "count": 70
           },
           {
            "bin_start": 0.1,
            "bin_end": 0.2,
            "count": 0
           },
           {
            "bin_start": 0.2,
            "bin_end": 0.30000000000000004,
            "count": 0
           },
           {
            "bin_start": 0.30000000000000004,
            "bin_end": 0.4,
            "count": 0
           },
           {
            "bin_start": 0.4,
            "bin_end": 0.5,
            "count": 0
           },
           {
            "bin_start": 0.5,
            "bin_end": 0.6000000000000001,
            "count": 0
           },
           {
            "bin_start": 0.6000000000000001,
            "bin_end": 0.7000000000000001,
            "count": 0
           },
           {
            "bin_start": 0.7000000000000001,
            "bin_end": 0.8,
            "count": 0
           },
           {
            "bin_start": 0.8,
            "bin_end": 0.9,
            "count": 0
           },
           {
            "bin_start": 0.9,
            "bin_end": 1,
            "count": 15
           }
          ]
         }
        },
        {
         "name": "bar",
         "dtype": "int64",
         "stats": {
          "unique_count": 2,
          "nan_count": 0,
          "min": "0",
          "max": "1",
          "histogram": [
           {
            "bin_start": 0,
            "bin_end": 0.1,
            "count": 64
           },
           {
            "bin_start": 0.1,
            "bin_end": 0.2,
            "count": 0
           },
           {
            "bin_start": 0.2,
            "bin_end": 0.30000000000000004,
            "count": 0
           },
           {
            "bin_start": 0.30000000000000004,
            "bin_end": 0.4,
            "count": 0
           },
           {
            "bin_start": 0.4,
            "bin_end": 0.5,
            "count": 0
           },
           {
            "bin_start": 0.5,
            "bin_end": 0.6000000000000001,
            "count": 0
           },
           {
            "bin_start": 0.6000000000000001,
            "bin_end": 0.7000000000000001,
            "count": 0
           },
           {
            "bin_start": 0.7000000000000001,
            "bin_end": 0.8,
            "count": 0
           },
           {
            "bin_start": 0.8,
            "bin_end": 0.9,
            "count": 0
           },
           {
            "bin_start": 0.9,
            "bin_end": 1,
            "count": 21
           }
          ]
         }
        },
        {
         "name": "pluribus",
         "dtype": "int64",
         "stats": {
          "unique_count": 2,
          "nan_count": 0,
          "min": "0",
          "max": "1",
          "histogram": [
           {
            "bin_start": 0,
            "bin_end": 0.1,
            "count": 41
           },
           {
            "bin_start": 0.1,
            "bin_end": 0.2,
            "count": 0
           },
           {
            "bin_start": 0.2,
            "bin_end": 0.30000000000000004,
            "count": 0
           },
           {
            "bin_start": 0.30000000000000004,
            "bin_end": 0.4,
            "count": 0
           },
           {
            "bin_start": 0.4,
            "bin_end": 0.5,
            "count": 0
           },
           {
            "bin_start": 0.5,
            "bin_end": 0.6000000000000001,
            "count": 0
           },
           {
            "bin_start": 0.6000000000000001,
            "bin_end": 0.7000000000000001,
            "count": 0
           },
           {
            "bin_start": 0.7000000000000001,
            "bin_end": 0.8,
            "count": 0
           },
           {
            "bin_start": 0.8,
            "bin_end": 0.9,
            "count": 0
           },
           {
            "bin_start": 0.9,
            "bin_end": 1,
            "count": 44
           }
          ]
         }
        },
        {
         "name": "sugarpercent",
         "dtype": "float64",
         "stats": {
          "unique_count": 34,
          "nan_count": 0,
          "min": "0.011",
          "max": "0.98799998",
          "histogram": [
           {
            "bin_start": 0.011,
            "bin_end": 0.10869999799999999,
            "count": 10
           },
           {
            "bin_start": 0.10869999799999999,
            "bin_end": 0.206399996,
            "count": 8
           },
           {
            "bin_start": 0.206399996,
            "bin_end": 0.304099994,
            "count": 8
           },
           {
            "bin_start": 0.304099994,
            "bin_end": 0.401799992,
            "count": 8
           },
           {
            "bin_start": 0.401799992,
            "bin_end": 0.49949999,
            "count": 12
           },
           {
            "bin_start": 0.49949999,
            "bin_end": 0.597199988,
            "count": 5
           },
           {
            "bin_start": 0.597199988,
            "bin_end": 0.694899986,
            "count": 10
           },
           {
            "bin_start": 0.694899986,
            "bin_end": 0.792599984,
            "count": 9
           },
           {
            "bin_start": 0.792599984,
            "bin_end": 0.8902999819999999,
            "count": 7
           },
           {
            "bin_start": 0.8902999819999999,
            "bin_end": 0.98799998,
            "count": 8
           }
          ]
         }
        },
        {
         "name": "pricepercent",
         "dtype": "float64",
         "stats": {
          "unique_count": 29,
          "nan_count": 0,
          "min": "0.011",
          "max": "0.97600001",
          "histogram": [
           {
            "bin_start": 0.011,
            "bin_end": 0.107500001,
            "count": 9
           },
           {
            "bin_start": 0.107500001,
            "bin_end": 0.204000002,
            "count": 9
           },
           {
            "bin_start": 0.204000002,
            "bin_end": 0.300500003,
            "count": 8
           },
           {
            "bin_start": 0.300500003,
            "bin_end": 0.397000004,
            "count": 11
           },
           {
            "bin_start": 0.397000004,
            "bin_end": 0.493500005,
            "count": 6
           },
           {
            "bin_start": 0.493500005,
            "bin_end": 0.590000006,
            "count": 12
           },
           {
            "bin_start": 0.590000006,
            "bin_end": 0.686500007,
            "count": 9
           },
           {
            "bin_start": 0.686500007,
            "bin_end": 0.783000008,
            "count": 7
           },
           {
            "bin_start": 0.783000008,
            "bin_end": 0.879500009,
            "count": 6
           },
           {
            "bin_start": 0.879500009,
            "bin_end": 0.97600001,
            "count": 8
           }
          ]
         }
        },
        {
         "name": "winpercent",
         "dtype": "float64",
         "stats": {
          "unique_count": 85,
          "nan_count": 0,
          "min": "22.445341",
          "max": "84.18029",
          "histogram": [
           {
            "bin_start": 22.445341,
            "bin_end": 28.6188359,
            "count": 5
           },
           {
            "bin_start": 28.6188359,
            "bin_end": 34.7923308,
            "count": 8
           },
           {
            "bin_start": 34.7923308,
            "bin_end": 40.965825699999996,
            "count": 12
           },
           {
            "bin_start": 40.965825699999996,
            "bin_end": 47.1393206,
            "count": 16
           },
           {
            "bin_start": 47.1393206,
            "bin_end": 53.3128155,
            "count": 10
           },
           {
            "bin_start": 53.3128155,
            "bin_end": 59.486310399999994,
            "count": 11
           },
           {
            "bin_start": 59.486310399999994,
            "bin_end": 65.65980529999999,
            "count": 6
           },
           {
            "bin_start": 65.65980529999999,
            "bin_end": 71.8333002,
            "count": 9
           },
           {
            "bin_start": 71.8333002,
            "bin_end": 78.0067951,
            "count": 5
           },
           {
            "bin_start": 78.0067951,
            "bin_end": 84.18029,
            "count": 3
           }
          ]
         }
        },
        {
         "name": "group",
         "dtype": "int32",
         "stats": {
          "unique_count": 4,
          "nan_count": 0,
          "min": "0",
          "max": "3",
          "histogram": [
           {
            "bin_start": 0,
            "bin_end": 0.3,
            "count": 31
           },
           {
            "bin_start": 0.3,
            "bin_end": 0.6,
            "count": 0
           },
           {
            "bin_start": 0.6,
            "bin_end": 0.8999999999999999,
            "count": 0
           },
           {
            "bin_start": 0.8999999999999999,
            "bin_end": 1.2,
            "count": 9
           },
           {
            "bin_start": 1.2,
            "bin_end": 1.5,
            "count": 0
           },
           {
            "bin_start": 1.5,
            "bin_end": 1.7999999999999998,
            "count": 0
           },
           {
            "bin_start": 1.7999999999999998,
            "bin_end": 2.1,
            "count": 30
           },
           {
            "bin_start": 2.1,
            "bin_end": 2.4,
            "count": 0
           },
           {
            "bin_start": 2.4,
            "bin_end": 2.6999999999999997,
            "count": 0
           },
           {
            "bin_start": 2.6999999999999997,
            "bin_end": 3,
            "count": 15
           }
          ]
         }
        },
        {
         "name": "_deepnote_index_column",
         "dtype": "int64"
        }
       ],
       "rows": [
        {
         "competitorname": "100 Grand",
         "chocolate": 1,
         "fruity": 0,
         "caramel": 1,
         "peanutyalmondy": 0,
         "nougat": 0,
         "crispedricewafer": 1,
         "hard": 0,
         "bar": 1,
         "pluribus": 0,
         "sugarpercent": 0.73199999,
         "pricepercent": 0.86000001,
         "winpercent": 66.971725,
         "group": 3,
         "_deepnote_index_column": 0
        },
        {
         "competitorname": "3 Musketeers",
         "chocolate": 1,
         "fruity": 0,
         "caramel": 0,
         "peanutyalmondy": 0,
         "nougat": 1,
         "crispedricewafer": 0,
         "hard": 0,
         "bar": 1,
         "pluribus": 0,
         "sugarpercent": 0.60399997,
         "pricepercent": 0.51099998,
         "winpercent": 67.602936,
         "group": 3,
         "_deepnote_index_column": 1
        },
        {
         "competitorname": "One dime",
         "chocolate": 0,
         "fruity": 0,
         "caramel": 0,
         "peanutyalmondy": 0,
         "nougat": 0,
         "crispedricewafer": 0,
         "hard": 0,
         "bar": 0,
         "pluribus": 0,
         "sugarpercent": 0.011,
         "pricepercent": 0.116,
         "winpercent": 32.261086,
         "group": 2,
         "_deepnote_index_column": 2
        },
        {
         "competitorname": "One quarter",
         "chocolate": 0,
         "fruity": 0,
         "caramel": 0,
         "peanutyalmondy": 0,
         "nougat": 0,
         "crispedricewafer": 0,
         "hard": 0,
         "bar": 0,
         "pluribus": 0,
         "sugarpercent": 0.011,
         "pricepercent": 0.51099998,
         "winpercent": 46.116505,
         "group": 0,
         "_deepnote_index_column": 3
        },
        {
         "competitorname": "Air Heads",
         "chocolate": 0,
         "fruity": 1,
         "caramel": 0,
         "peanutyalmondy": 0,
         "nougat": 0,
         "crispedricewafer": 0,
         "hard": 0,
         "bar": 0,
         "pluribus": 0,
         "sugarpercent": 0.90600002,
         "pricepercent": 0.51099998,
         "winpercent": 52.341465,
         "group": 0,
         "_deepnote_index_column": 4
        },
        {
         "competitorname": "Almond Joy",
         "chocolate": 1,
         "fruity": 0,
         "caramel": 0,
         "peanutyalmondy": 1,
         "nougat": 0,
         "crispedricewafer": 0,
         "hard": 0,
         "bar": 1,
         "pluribus": 0,
         "sugarpercent": 0.465,
         "pricepercent": 0.76700002,
         "winpercent": 50.347546,
         "group": 0,
         "_deepnote_index_column": 5
        },
        {
         "competitorname": "Baby Ruth",
         "chocolate": 1,
         "fruity": 0,
         "caramel": 1,
         "peanutyalmondy": 1,
         "nougat": 1,
         "crispedricewafer": 0,
         "hard": 0,
         "bar": 1,
         "pluribus": 0,
         "sugarpercent": 0.60399997,
         "pricepercent": 0.76700002,
         "winpercent": 56.914547,
         "group": 0,
         "_deepnote_index_column": 6
        },
        {
         "competitorname": "Boston Baked Beans",
         "chocolate": 0,
         "fruity": 0,
         "caramel": 0,
         "peanutyalmondy": 1,
         "nougat": 0,
         "crispedricewafer": 0,
         "hard": 0,
         "bar": 0,
         "pluribus": 1,
         "sugarpercent": 0.31299999,
         "pricepercent": 0.51099998,
         "winpercent": 23.417824,
         "group": 2,
         "_deepnote_index_column": 7
        },
        {
         "competitorname": "Candy Corn",
         "chocolate": 0,
         "fruity": 0,
         "caramel": 0,
         "peanutyalmondy": 0,
         "nougat": 0,
         "crispedricewafer": 0,
         "hard": 0,
         "bar": 0,
         "pluribus": 1,
         "sugarpercent": 0.90600002,
         "pricepercent": 0.32499999,
         "winpercent": 38.010963,
         "group": 2,
         "_deepnote_index_column": 8
        },
        {
         "competitorname": "Caramel Apple Pops",
         "chocolate": 0,
         "fruity": 1,
         "caramel": 1,
         "peanutyalmondy": 0,
         "nougat": 0,
         "crispedricewafer": 0,
         "hard": 0,
         "bar": 0,
         "pluribus": 0,
         "sugarpercent": 0.60399997,
         "pricepercent": 0.32499999,
         "winpercent": 34.517681,
         "group": 2,
         "_deepnote_index_column": 9
        }
       ]
      },
      "text/plain": "                competitorname  chocolate  fruity  caramel  peanutyalmondy  \\\n0                    100 Grand          1       0        1               0   \n1                 3 Musketeers          1       0        0               0   \n2                     One dime          0       0        0               0   \n3                  One quarter          0       0        0               0   \n4                    Air Heads          0       1        0               0   \n..                         ...        ...     ...      ...             ...   \n80                   Twizzlers          0       1        0               0   \n81                    Warheads          0       1        0               0   \n82        WelchÕs Fruit Snacks          0       1        0               0   \n83  WertherÕs Original Caramel          0       0        1               0   \n84                    Whoppers          1       0        0               0   \n\n    nougat  crispedricewafer  hard  bar  pluribus  sugarpercent  pricepercent  \\\n0        0                 1     0    1         0         0.732         0.860   \n1        1                 0     0    1         0         0.604         0.511   \n2        0                 0     0    0         0         0.011         0.116   \n3        0                 0     0    0         0         0.011         0.511   \n4        0                 0     0    0         0         0.906         0.511   \n..     ...               ...   ...  ...       ...           ...           ...   \n80       0                 0     0    0         0         0.220         0.116   \n81       0                 0     1    0         0         0.093         0.116   \n82       0                 0     0    0         1         0.313         0.313   \n83       0                 0     1    0         0         0.186         0.267   \n84       0                 1     0    0         1         0.872         0.848   \n\n    winpercent  group  \n0    66.971725      3  \n1    67.602936      3  \n2    32.261086      2  \n3    46.116505      0  \n4    52.341465      0  \n..         ...    ...  \n80   45.466282      0  \n81   39.011898      2  \n82   44.375519      0  \n83   41.904308      2  \n84   49.524113      0  \n\n[85 rows x 14 columns]",
      "text/html": "<div>\n<style scoped>\n    .dataframe tbody tr th:only-of-type {\n        vertical-align: middle;\n    }\n\n    .dataframe tbody tr th {\n        vertical-align: top;\n    }\n\n    .dataframe thead th {\n        text-align: right;\n    }\n</style>\n<table border=\"1\" class=\"dataframe\">\n  <thead>\n    <tr style=\"text-align: right;\">\n      <th></th>\n      <th>competitorname</th>\n      <th>chocolate</th>\n      <th>fruity</th>\n      <th>caramel</th>\n      <th>peanutyalmondy</th>\n      <th>nougat</th>\n      <th>crispedricewafer</th>\n      <th>hard</th>\n      <th>bar</th>\n      <th>pluribus</th>\n      <th>sugarpercent</th>\n      <th>pricepercent</th>\n      <th>winpercent</th>\n      <th>group</th>\n    </tr>\n  </thead>\n  <tbody>\n    <tr>\n      <th>0</th>\n      <td>100 Grand</td>\n      <td>1</td>\n      <td>0</td>\n      <td>1</td>\n      <td>0</td>\n      <td>0</td>\n      <td>1</td>\n      <td>0</td>\n      <td>1</td>\n      <td>0</td>\n      <td>0.732</td>\n      <td>0.860</td>\n      <td>66.971725</td>\n      <td>3</td>\n    </tr>\n    <tr>\n      <th>1</th>\n      <td>3 Musketeers</td>\n      <td>1</td>\n      <td>0</td>\n      <td>0</td>\n      <td>0</td>\n      <td>1</td>\n      <td>0</td>\n      <td>0</td>\n      <td>1</td>\n      <td>0</td>\n      <td>0.604</td>\n      <td>0.511</td>\n      <td>67.602936</td>\n      <td>3</td>\n    </tr>\n    <tr>\n      <th>2</th>\n      <td>One dime</td>\n      <td>0</td>\n      <td>0</td>\n      <td>0</td>\n      <td>0</td>\n      <td>0</td>\n      <td>0</td>\n      <td>0</td>\n      <td>0</td>\n      <td>0</td>\n      <td>0.011</td>\n      <td>0.116</td>\n      <td>32.261086</td>\n      <td>2</td>\n    </tr>\n    <tr>\n      <th>3</th>\n      <td>One quarter</td>\n      <td>0</td>\n      <td>0</td>\n      <td>0</td>\n      <td>0</td>\n      <td>0</td>\n      <td>0</td>\n      <td>0</td>\n      <td>0</td>\n      <td>0</td>\n      <td>0.011</td>\n      <td>0.511</td>\n      <td>46.116505</td>\n      <td>0</td>\n    </tr>\n    <tr>\n      <th>4</th>\n      <td>Air Heads</td>\n      <td>0</td>\n      <td>1</td>\n      <td>0</td>\n      <td>0</td>\n      <td>0</td>\n      <td>0</td>\n      <td>0</td>\n      <td>0</td>\n      <td>0</td>\n      <td>0.906</td>\n      <td>0.511</td>\n      <td>52.341465</td>\n      <td>0</td>\n    </tr>\n    <tr>\n      <th>...</th>\n      <td>...</td>\n      <td>...</td>\n      <td>...</td>\n      <td>...</td>\n      <td>...</td>\n      <td>...</td>\n      <td>...</td>\n      <td>...</td>\n      <td>...</td>\n      <td>...</td>\n      <td>...</td>\n      <td>...</td>\n      <td>...</td>\n      <td>...</td>\n    </tr>\n    <tr>\n      <th>80</th>\n      <td>Twizzlers</td>\n      <td>0</td>\n      <td>1</td>\n      <td>0</td>\n      <td>0</td>\n      <td>0</td>\n      <td>0</td>\n      <td>0</td>\n      <td>0</td>\n      <td>0</td>\n      <td>0.220</td>\n      <td>0.116</td>\n      <td>45.466282</td>\n      <td>0</td>\n    </tr>\n    <tr>\n      <th>81</th>\n      <td>Warheads</td>\n      <td>0</td>\n      <td>1</td>\n      <td>0</td>\n      <td>0</td>\n      <td>0</td>\n      <td>0</td>\n      <td>1</td>\n      <td>0</td>\n      <td>0</td>\n      <td>0.093</td>\n      <td>0.116</td>\n      <td>39.011898</td>\n      <td>2</td>\n    </tr>\n    <tr>\n      <th>82</th>\n      <td>WelchÕs Fruit Snacks</td>\n      <td>0</td>\n      <td>1</td>\n      <td>0</td>\n      <td>0</td>\n      <td>0</td>\n      <td>0</td>\n      <td>0</td>\n      <td>0</td>\n      <td>1</td>\n      <td>0.313</td>\n      <td>0.313</td>\n      <td>44.375519</td>\n      <td>0</td>\n    </tr>\n    <tr>\n      <th>83</th>\n      <td>WertherÕs Original Caramel</td>\n      <td>0</td>\n      <td>0</td>\n      <td>1</td>\n      <td>0</td>\n      <td>0</td>\n      <td>0</td>\n      <td>1</td>\n      <td>0</td>\n      <td>0</td>\n      <td>0.186</td>\n      <td>0.267</td>\n      <td>41.904308</td>\n      <td>2</td>\n    </tr>\n    <tr>\n      <th>84</th>\n      <td>Whoppers</td>\n      <td>1</td>\n      <td>0</td>\n      <td>0</td>\n      <td>0</td>\n      <td>0</td>\n      <td>1</td>\n      <td>0</td>\n      <td>0</td>\n      <td>1</td>\n      <td>0.872</td>\n      <td>0.848</td>\n      <td>49.524113</td>\n      <td>0</td>\n    </tr>\n  </tbody>\n</table>\n<p>85 rows × 14 columns</p>\n</div>"
     },
     "metadata": {}
    }
   ]
  },
  {
   "cell_type": "markdown",
   "source": "# MeanShift",
   "metadata": {
    "cell_id": "130904db-f9b6-4391-906f-24463516391e",
    "tags": [],
    "is_collapsed": false,
    "deepnote_cell_type": "text-cell-h1",
    "deepnote_cell_height": 82
   }
  },
  {
   "cell_type": "code",
   "metadata": {
    "cell_id": "4943ceb7-d45c-418a-97d5-d92335e2b4c0",
    "tags": [],
    "deepnote_to_be_reexecuted": false,
    "source_hash": "24384033",
    "execution_start": 1647046187416,
    "execution_millis": 497,
    "deepnote_cell_type": "code",
    "deepnote_cell_height": 476.0625
   },
   "source": "# implementacion_meanshift\ndataset = pd.read_csv('data/candy.csv')\nX = dataset.drop('competitorname', axis=1)\n\nmeanshift = MeanShift().fit(X)\nprint(max(meanshift.labels_))\nprint(\"=\"*64)\nprint(meanshift.cluster_centers_)\n\ndataset['meanshift'] = meanshift.labels_",
   "execution_count": null,
   "outputs": [
    {
     "name": "stdout",
     "text": "2\n================================================================\n[[2.25000000e-01 5.75000000e-01 1.00000000e-01 2.50000000e-02\n  5.00000000e-02 2.50000000e-02 3.00000000e-01 1.00000000e-01\n  5.50000000e-01 4.57599993e-01 3.67824996e-01 4.10442122e+01]\n [4.68750000e-01 5.00000000e-01 1.25000000e-01 1.56250000e-01\n  9.37500000e-02 6.25000000e-02 1.25000000e-01 3.12500000e-01\n  5.31250000e-01 4.57281243e-01 4.67874998e-01 5.21138597e+01]\n [8.26086957e-01 1.73913043e-01 3.04347826e-01 3.04347826e-01\n  1.73913043e-01 1.73913043e-01 0.00000000e+00 5.21739130e-01\n  4.34782609e-01 5.81391293e-01 6.38086963e-01 6.47120799e+01]]\n",
     "output_type": "stream"
    }
   ]
  },
  {
   "cell_type": "code",
   "metadata": {
    "cell_id": "e0e6fb33-3cae-4cb0-a62b-bc1ae89f776a",
    "tags": [],
    "deepnote_to_be_reexecuted": false,
    "source_hash": "10724ecb",
    "execution_start": 1647046192296,
    "execution_millis": 281,
    "deepnote_cell_type": "code",
    "deepnote_cell_height": 66
   },
   "source": "dataset",
   "execution_count": null,
   "outputs": [
    {
     "output_type": "execute_result",
     "execution_count": 8,
     "data": {
      "application/vnd.deepnote.dataframe.v3+json": {
       "column_count": 14,
       "row_count": 85,
       "columns": [
        {
         "name": "competitorname",
         "dtype": "object",
         "stats": {
          "unique_count": 85,
          "nan_count": 0,
          "categories": [
           {
            "name": "100 Grand",
            "count": 1
           },
           {
            "name": "3 Musketeers",
            "count": 1
           },
           {
            "name": "83 others",
            "count": 83
           }
          ]
         }
        },
        {
         "name": "chocolate",
         "dtype": "int64",
         "stats": {
          "unique_count": 2,
          "nan_count": 0,
          "min": "0",
          "max": "1",
          "histogram": [
           {
            "bin_start": 0,
            "bin_end": 0.1,
            "count": 48
           },
           {
            "bin_start": 0.1,
            "bin_end": 0.2,
            "count": 0
           },
           {
            "bin_start": 0.2,
            "bin_end": 0.30000000000000004,
            "count": 0
           },
           {
            "bin_start": 0.30000000000000004,
            "bin_end": 0.4,
            "count": 0
           },
           {
            "bin_start": 0.4,
            "bin_end": 0.5,
            "count": 0
           },
           {
            "bin_start": 0.5,
            "bin_end": 0.6000000000000001,
            "count": 0
           },
           {
            "bin_start": 0.6000000000000001,
            "bin_end": 0.7000000000000001,
            "count": 0
           },
           {
            "bin_start": 0.7000000000000001,
            "bin_end": 0.8,
            "count": 0
           },
           {
            "bin_start": 0.8,
            "bin_end": 0.9,
            "count": 0
           },
           {
            "bin_start": 0.9,
            "bin_end": 1,
            "count": 37
           }
          ]
         }
        },
        {
         "name": "fruity",
         "dtype": "int64",
         "stats": {
          "unique_count": 2,
          "nan_count": 0,
          "min": "0",
          "max": "1",
          "histogram": [
           {
            "bin_start": 0,
            "bin_end": 0.1,
            "count": 47
           },
           {
            "bin_start": 0.1,
            "bin_end": 0.2,
            "count": 0
           },
           {
            "bin_start": 0.2,
            "bin_end": 0.30000000000000004,
            "count": 0
           },
           {
            "bin_start": 0.30000000000000004,
            "bin_end": 0.4,
            "count": 0
           },
           {
            "bin_start": 0.4,
            "bin_end": 0.5,
            "count": 0
           },
           {
            "bin_start": 0.5,
            "bin_end": 0.6000000000000001,
            "count": 0
           },
           {
            "bin_start": 0.6000000000000001,
            "bin_end": 0.7000000000000001,
            "count": 0
           },
           {
            "bin_start": 0.7000000000000001,
            "bin_end": 0.8,
            "count": 0
           },
           {
            "bin_start": 0.8,
            "bin_end": 0.9,
            "count": 0
           },
           {
            "bin_start": 0.9,
            "bin_end": 1,
            "count": 38
           }
          ]
         }
        },
        {
         "name": "caramel",
         "dtype": "int64",
         "stats": {
          "unique_count": 2,
          "nan_count": 0,
          "min": "0",
          "max": "1",
          "histogram": [
           {
            "bin_start": 0,
            "bin_end": 0.1,
            "count": 71
           },
           {
            "bin_start": 0.1,
            "bin_end": 0.2,
            "count": 0
           },
           {
            "bin_start": 0.2,
            "bin_end": 0.30000000000000004,
            "count": 0
           },
           {
            "bin_start": 0.30000000000000004,
            "bin_end": 0.4,
            "count": 0
           },
           {
            "bin_start": 0.4,
            "bin_end": 0.5,
            "count": 0
           },
           {
            "bin_start": 0.5,
            "bin_end": 0.6000000000000001,
            "count": 0
           },
           {
            "bin_start": 0.6000000000000001,
            "bin_end": 0.7000000000000001,
            "count": 0
           },
           {
            "bin_start": 0.7000000000000001,
            "bin_end": 0.8,
            "count": 0
           },
           {
            "bin_start": 0.8,
            "bin_end": 0.9,
            "count": 0
           },
           {
            "bin_start": 0.9,
            "bin_end": 1,
            "count": 14
           }
          ]
         }
        },
        {
         "name": "peanutyalmondy",
         "dtype": "int64",
         "stats": {
          "unique_count": 2,
          "nan_count": 0,
          "min": "0",
          "max": "1",
          "histogram": [
           {
            "bin_start": 0,
            "bin_end": 0.1,
            "count": 71
           },
           {
            "bin_start": 0.1,
            "bin_end": 0.2,
            "count": 0
           },
           {
            "bin_start": 0.2,
            "bin_end": 0.30000000000000004,
            "count": 0
           },
           {
            "bin_start": 0.30000000000000004,
            "bin_end": 0.4,
            "count": 0
           },
           {
            "bin_start": 0.4,
            "bin_end": 0.5,
            "count": 0
           },
           {
            "bin_start": 0.5,
            "bin_end": 0.6000000000000001,
            "count": 0
           },
           {
            "bin_start": 0.6000000000000001,
            "bin_end": 0.7000000000000001,
            "count": 0
           },
           {
            "bin_start": 0.7000000000000001,
            "bin_end": 0.8,
            "count": 0
           },
           {
            "bin_start": 0.8,
            "bin_end": 0.9,
            "count": 0
           },
           {
            "bin_start": 0.9,
            "bin_end": 1,
            "count": 14
           }
          ]
         }
        },
        {
         "name": "nougat",
         "dtype": "int64",
         "stats": {
          "unique_count": 2,
          "nan_count": 0,
          "min": "0",
          "max": "1",
          "histogram": [
           {
            "bin_start": 0,
            "bin_end": 0.1,
            "count": 78
           },
           {
            "bin_start": 0.1,
            "bin_end": 0.2,
            "count": 0
           },
           {
            "bin_start": 0.2,
            "bin_end": 0.30000000000000004,
            "count": 0
           },
           {
            "bin_start": 0.30000000000000004,
            "bin_end": 0.4,
            "count": 0
           },
           {
            "bin_start": 0.4,
            "bin_end": 0.5,
            "count": 0
           },
           {
            "bin_start": 0.5,
            "bin_end": 0.6000000000000001,
            "count": 0
           },
           {
            "bin_start": 0.6000000000000001,
            "bin_end": 0.7000000000000001,
            "count": 0
           },
           {
            "bin_start": 0.7000000000000001,
            "bin_end": 0.8,
            "count": 0
           },
           {
            "bin_start": 0.8,
            "bin_end": 0.9,
            "count": 0
           },
           {
            "bin_start": 0.9,
            "bin_end": 1,
            "count": 7
           }
          ]
         }
        },
        {
         "name": "crispedricewafer",
         "dtype": "int64",
         "stats": {
          "unique_count": 2,
          "nan_count": 0,
          "min": "0",
          "max": "1",
          "histogram": [
           {
            "bin_start": 0,
            "bin_end": 0.1,
            "count": 78
           },
           {
            "bin_start": 0.1,
            "bin_end": 0.2,
            "count": 0
           },
           {
            "bin_start": 0.2,
            "bin_end": 0.30000000000000004,
            "count": 0
           },
           {
            "bin_start": 0.30000000000000004,
            "bin_end": 0.4,
            "count": 0
           },
           {
            "bin_start": 0.4,
            "bin_end": 0.5,
            "count": 0
           },
           {
            "bin_start": 0.5,
            "bin_end": 0.6000000000000001,
            "count": 0
           },
           {
            "bin_start": 0.6000000000000001,
            "bin_end": 0.7000000000000001,
            "count": 0
           },
           {
            "bin_start": 0.7000000000000001,
            "bin_end": 0.8,
            "count": 0
           },
           {
            "bin_start": 0.8,
            "bin_end": 0.9,
            "count": 0
           },
           {
            "bin_start": 0.9,
            "bin_end": 1,
            "count": 7
           }
          ]
         }
        },
        {
         "name": "hard",
         "dtype": "int64",
         "stats": {
          "unique_count": 2,
          "nan_count": 0,
          "min": "0",
          "max": "1",
          "histogram": [
           {
            "bin_start": 0,
            "bin_end": 0.1,
            "count": 70
           },
           {
            "bin_start": 0.1,
            "bin_end": 0.2,
            "count": 0
           },
           {
            "bin_start": 0.2,
            "bin_end": 0.30000000000000004,
            "count": 0
           },
           {
            "bin_start": 0.30000000000000004,
            "bin_end": 0.4,
            "count": 0
           },
           {
            "bin_start": 0.4,
            "bin_end": 0.5,
            "count": 0
           },
           {
            "bin_start": 0.5,
            "bin_end": 0.6000000000000001,
            "count": 0
           },
           {
            "bin_start": 0.6000000000000001,
            "bin_end": 0.7000000000000001,
            "count": 0
           },
           {
            "bin_start": 0.7000000000000001,
            "bin_end": 0.8,
            "count": 0
           },
           {
            "bin_start": 0.8,
            "bin_end": 0.9,
            "count": 0
           },
           {
            "bin_start": 0.9,
            "bin_end": 1,
            "count": 15
           }
          ]
         }
        },
        {
         "name": "bar",
         "dtype": "int64",
         "stats": {
          "unique_count": 2,
          "nan_count": 0,
          "min": "0",
          "max": "1",
          "histogram": [
           {
            "bin_start": 0,
            "bin_end": 0.1,
            "count": 64
           },
           {
            "bin_start": 0.1,
            "bin_end": 0.2,
            "count": 0
           },
           {
            "bin_start": 0.2,
            "bin_end": 0.30000000000000004,
            "count": 0
           },
           {
            "bin_start": 0.30000000000000004,
            "bin_end": 0.4,
            "count": 0
           },
           {
            "bin_start": 0.4,
            "bin_end": 0.5,
            "count": 0
           },
           {
            "bin_start": 0.5,
            "bin_end": 0.6000000000000001,
            "count": 0
           },
           {
            "bin_start": 0.6000000000000001,
            "bin_end": 0.7000000000000001,
            "count": 0
           },
           {
            "bin_start": 0.7000000000000001,
            "bin_end": 0.8,
            "count": 0
           },
           {
            "bin_start": 0.8,
            "bin_end": 0.9,
            "count": 0
           },
           {
            "bin_start": 0.9,
            "bin_end": 1,
            "count": 21
           }
          ]
         }
        },
        {
         "name": "pluribus",
         "dtype": "int64",
         "stats": {
          "unique_count": 2,
          "nan_count": 0,
          "min": "0",
          "max": "1",
          "histogram": [
           {
            "bin_start": 0,
            "bin_end": 0.1,
            "count": 41
           },
           {
            "bin_start": 0.1,
            "bin_end": 0.2,
            "count": 0
           },
           {
            "bin_start": 0.2,
            "bin_end": 0.30000000000000004,
            "count": 0
           },
           {
            "bin_start": 0.30000000000000004,
            "bin_end": 0.4,
            "count": 0
           },
           {
            "bin_start": 0.4,
            "bin_end": 0.5,
            "count": 0
           },
           {
            "bin_start": 0.5,
            "bin_end": 0.6000000000000001,
            "count": 0
           },
           {
            "bin_start": 0.6000000000000001,
            "bin_end": 0.7000000000000001,
            "count": 0
           },
           {
            "bin_start": 0.7000000000000001,
            "bin_end": 0.8,
            "count": 0
           },
           {
            "bin_start": 0.8,
            "bin_end": 0.9,
            "count": 0
           },
           {
            "bin_start": 0.9,
            "bin_end": 1,
            "count": 44
           }
          ]
         }
        },
        {
         "name": "sugarpercent",
         "dtype": "float64",
         "stats": {
          "unique_count": 34,
          "nan_count": 0,
          "min": "0.011",
          "max": "0.98799998",
          "histogram": [
           {
            "bin_start": 0.011,
            "bin_end": 0.10869999799999999,
            "count": 10
           },
           {
            "bin_start": 0.10869999799999999,
            "bin_end": 0.206399996,
            "count": 8
           },
           {
            "bin_start": 0.206399996,
            "bin_end": 0.304099994,
            "count": 8
           },
           {
            "bin_start": 0.304099994,
            "bin_end": 0.401799992,
            "count": 8
           },
           {
            "bin_start": 0.401799992,
            "bin_end": 0.49949999,
            "count": 12
           },
           {
            "bin_start": 0.49949999,
            "bin_end": 0.597199988,
            "count": 5
           },
           {
            "bin_start": 0.597199988,
            "bin_end": 0.694899986,
            "count": 10
           },
           {
            "bin_start": 0.694899986,
            "bin_end": 0.792599984,
            "count": 9
           },
           {
            "bin_start": 0.792599984,
            "bin_end": 0.8902999819999999,
            "count": 7
           },
           {
            "bin_start": 0.8902999819999999,
            "bin_end": 0.98799998,
            "count": 8
           }
          ]
         }
        },
        {
         "name": "pricepercent",
         "dtype": "float64",
         "stats": {
          "unique_count": 29,
          "nan_count": 0,
          "min": "0.011",
          "max": "0.97600001",
          "histogram": [
           {
            "bin_start": 0.011,
            "bin_end": 0.107500001,
            "count": 9
           },
           {
            "bin_start": 0.107500001,
            "bin_end": 0.204000002,
            "count": 9
           },
           {
            "bin_start": 0.204000002,
            "bin_end": 0.300500003,
            "count": 8
           },
           {
            "bin_start": 0.300500003,
            "bin_end": 0.397000004,
            "count": 11
           },
           {
            "bin_start": 0.397000004,
            "bin_end": 0.493500005,
            "count": 6
           },
           {
            "bin_start": 0.493500005,
            "bin_end": 0.590000006,
            "count": 12
           },
           {
            "bin_start": 0.590000006,
            "bin_end": 0.686500007,
            "count": 9
           },
           {
            "bin_start": 0.686500007,
            "bin_end": 0.783000008,
            "count": 7
           },
           {
            "bin_start": 0.783000008,
            "bin_end": 0.879500009,
            "count": 6
           },
           {
            "bin_start": 0.879500009,
            "bin_end": 0.97600001,
            "count": 8
           }
          ]
         }
        },
        {
         "name": "winpercent",
         "dtype": "float64",
         "stats": {
          "unique_count": 85,
          "nan_count": 0,
          "min": "22.445341",
          "max": "84.18029",
          "histogram": [
           {
            "bin_start": 22.445341,
            "bin_end": 28.6188359,
            "count": 5
           },
           {
            "bin_start": 28.6188359,
            "bin_end": 34.7923308,
            "count": 8
           },
           {
            "bin_start": 34.7923308,
            "bin_end": 40.965825699999996,
            "count": 12
           },
           {
            "bin_start": 40.965825699999996,
            "bin_end": 47.1393206,
            "count": 16
           },
           {
            "bin_start": 47.1393206,
            "bin_end": 53.3128155,
            "count": 10
           },
           {
            "bin_start": 53.3128155,
            "bin_end": 59.486310399999994,
            "count": 11
           },
           {
            "bin_start": 59.486310399999994,
            "bin_end": 65.65980529999999,
            "count": 6
           },
           {
            "bin_start": 65.65980529999999,
            "bin_end": 71.8333002,
            "count": 9
           },
           {
            "bin_start": 71.8333002,
            "bin_end": 78.0067951,
            "count": 5
           },
           {
            "bin_start": 78.0067951,
            "bin_end": 84.18029,
            "count": 3
           }
          ]
         }
        },
        {
         "name": "meanshift",
         "dtype": "int64",
         "stats": {
          "unique_count": 3,
          "nan_count": 0,
          "min": "0",
          "max": "2",
          "histogram": [
           {
            "bin_start": 0,
            "bin_end": 0.2,
            "count": 40
           },
           {
            "bin_start": 0.2,
            "bin_end": 0.4,
            "count": 0
           },
           {
            "bin_start": 0.4,
            "bin_end": 0.6000000000000001,
            "count": 0
           },
           {
            "bin_start": 0.6000000000000001,
            "bin_end": 0.8,
            "count": 0
           },
           {
            "bin_start": 0.8,
            "bin_end": 1,
            "count": 0
           },
           {
            "bin_start": 1,
            "bin_end": 1.2000000000000002,
            "count": 21
           },
           {
            "bin_start": 1.2000000000000002,
            "bin_end": 1.4000000000000001,
            "count": 0
           },
           {
            "bin_start": 1.4000000000000001,
            "bin_end": 1.6,
            "count": 0
           },
           {
            "bin_start": 1.6,
            "bin_end": 1.8,
            "count": 0
           },
           {
            "bin_start": 1.8,
            "bin_end": 2,
            "count": 24
           }
          ]
         }
        },
        {
         "name": "_deepnote_index_column",
         "dtype": "int64"
        }
       ],
       "rows": [
        {
         "competitorname": "100 Grand",
         "chocolate": 1,
         "fruity": 0,
         "caramel": 1,
         "peanutyalmondy": 0,
         "nougat": 0,
         "crispedricewafer": 1,
         "hard": 0,
         "bar": 1,
         "pluribus": 0,
         "sugarpercent": 0.73199999,
         "pricepercent": 0.86000001,
         "winpercent": 66.971725,
         "meanshift": 2,
         "_deepnote_index_column": 0
        },
        {
         "competitorname": "3 Musketeers",
         "chocolate": 1,
         "fruity": 0,
         "caramel": 0,
         "peanutyalmondy": 0,
         "nougat": 1,
         "crispedricewafer": 0,
         "hard": 0,
         "bar": 1,
         "pluribus": 0,
         "sugarpercent": 0.60399997,
         "pricepercent": 0.51099998,
         "winpercent": 67.602936,
         "meanshift": 2,
         "_deepnote_index_column": 1
        },
        {
         "competitorname": "One dime",
         "chocolate": 0,
         "fruity": 0,
         "caramel": 0,
         "peanutyalmondy": 0,
         "nougat": 0,
         "crispedricewafer": 0,
         "hard": 0,
         "bar": 0,
         "pluribus": 0,
         "sugarpercent": 0.011,
         "pricepercent": 0.116,
         "winpercent": 32.261086,
         "meanshift": 0,
         "_deepnote_index_column": 2
        },
        {
         "competitorname": "One quarter",
         "chocolate": 0,
         "fruity": 0,
         "caramel": 0,
         "peanutyalmondy": 0,
         "nougat": 0,
         "crispedricewafer": 0,
         "hard": 0,
         "bar": 0,
         "pluribus": 0,
         "sugarpercent": 0.011,
         "pricepercent": 0.51099998,
         "winpercent": 46.116505,
         "meanshift": 0,
         "_deepnote_index_column": 3
        },
        {
         "competitorname": "Air Heads",
         "chocolate": 0,
         "fruity": 1,
         "caramel": 0,
         "peanutyalmondy": 0,
         "nougat": 0,
         "crispedricewafer": 0,
         "hard": 0,
         "bar": 0,
         "pluribus": 0,
         "sugarpercent": 0.90600002,
         "pricepercent": 0.51099998,
         "winpercent": 52.341465,
         "meanshift": 1,
         "_deepnote_index_column": 4
        },
        {
         "competitorname": "Almond Joy",
         "chocolate": 1,
         "fruity": 0,
         "caramel": 0,
         "peanutyalmondy": 1,
         "nougat": 0,
         "crispedricewafer": 0,
         "hard": 0,
         "bar": 1,
         "pluribus": 0,
         "sugarpercent": 0.465,
         "pricepercent": 0.76700002,
         "winpercent": 50.347546,
         "meanshift": 1,
         "_deepnote_index_column": 5
        },
        {
         "competitorname": "Baby Ruth",
         "chocolate": 1,
         "fruity": 0,
         "caramel": 1,
         "peanutyalmondy": 1,
         "nougat": 1,
         "crispedricewafer": 0,
         "hard": 0,
         "bar": 1,
         "pluribus": 0,
         "sugarpercent": 0.60399997,
         "pricepercent": 0.76700002,
         "winpercent": 56.914547,
         "meanshift": 1,
         "_deepnote_index_column": 6
        },
        {
         "competitorname": "Boston Baked Beans",
         "chocolate": 0,
         "fruity": 0,
         "caramel": 0,
         "peanutyalmondy": 1,
         "nougat": 0,
         "crispedricewafer": 0,
         "hard": 0,
         "bar": 0,
         "pluribus": 1,
         "sugarpercent": 0.31299999,
         "pricepercent": 0.51099998,
         "winpercent": 23.417824,
         "meanshift": 0,
         "_deepnote_index_column": 7
        },
        {
         "competitorname": "Candy Corn",
         "chocolate": 0,
         "fruity": 0,
         "caramel": 0,
         "peanutyalmondy": 0,
         "nougat": 0,
         "crispedricewafer": 0,
         "hard": 0,
         "bar": 0,
         "pluribus": 1,
         "sugarpercent": 0.90600002,
         "pricepercent": 0.32499999,
         "winpercent": 38.010963,
         "meanshift": 0,
         "_deepnote_index_column": 8
        },
        {
         "competitorname": "Caramel Apple Pops",
         "chocolate": 0,
         "fruity": 1,
         "caramel": 1,
         "peanutyalmondy": 0,
         "nougat": 0,
         "crispedricewafer": 0,
         "hard": 0,
         "bar": 0,
         "pluribus": 0,
         "sugarpercent": 0.60399997,
         "pricepercent": 0.32499999,
         "winpercent": 34.517681,
         "meanshift": 0,
         "_deepnote_index_column": 9
        }
       ]
      },
      "text/plain": "                competitorname  chocolate  fruity  caramel  peanutyalmondy  \\\n0                    100 Grand          1       0        1               0   \n1                 3 Musketeers          1       0        0               0   \n2                     One dime          0       0        0               0   \n3                  One quarter          0       0        0               0   \n4                    Air Heads          0       1        0               0   \n..                         ...        ...     ...      ...             ...   \n80                   Twizzlers          0       1        0               0   \n81                    Warheads          0       1        0               0   \n82        WelchÕs Fruit Snacks          0       1        0               0   \n83  WertherÕs Original Caramel          0       0        1               0   \n84                    Whoppers          1       0        0               0   \n\n    nougat  crispedricewafer  hard  bar  pluribus  sugarpercent  pricepercent  \\\n0        0                 1     0    1         0         0.732         0.860   \n1        1                 0     0    1         0         0.604         0.511   \n2        0                 0     0    0         0         0.011         0.116   \n3        0                 0     0    0         0         0.011         0.511   \n4        0                 0     0    0         0         0.906         0.511   \n..     ...               ...   ...  ...       ...           ...           ...   \n80       0                 0     0    0         0         0.220         0.116   \n81       0                 0     1    0         0         0.093         0.116   \n82       0                 0     0    0         1         0.313         0.313   \n83       0                 0     1    0         0         0.186         0.267   \n84       0                 1     0    0         1         0.872         0.848   \n\n    winpercent  meanshift  \n0    66.971725          2  \n1    67.602936          2  \n2    32.261086          0  \n3    46.116505          0  \n4    52.341465          1  \n..         ...        ...  \n80   45.466282          0  \n81   39.011898          0  \n82   44.375519          0  \n83   41.904308          0  \n84   49.524113          1  \n\n[85 rows x 14 columns]",
      "text/html": "<div>\n<style scoped>\n    .dataframe tbody tr th:only-of-type {\n        vertical-align: middle;\n    }\n\n    .dataframe tbody tr th {\n        vertical-align: top;\n    }\n\n    .dataframe thead th {\n        text-align: right;\n    }\n</style>\n<table border=\"1\" class=\"dataframe\">\n  <thead>\n    <tr style=\"text-align: right;\">\n      <th></th>\n      <th>competitorname</th>\n      <th>chocolate</th>\n      <th>fruity</th>\n      <th>caramel</th>\n      <th>peanutyalmondy</th>\n      <th>nougat</th>\n      <th>crispedricewafer</th>\n      <th>hard</th>\n      <th>bar</th>\n      <th>pluribus</th>\n      <th>sugarpercent</th>\n      <th>pricepercent</th>\n      <th>winpercent</th>\n      <th>meanshift</th>\n    </tr>\n  </thead>\n  <tbody>\n    <tr>\n      <th>0</th>\n      <td>100 Grand</td>\n      <td>1</td>\n      <td>0</td>\n      <td>1</td>\n      <td>0</td>\n      <td>0</td>\n      <td>1</td>\n      <td>0</td>\n      <td>1</td>\n      <td>0</td>\n      <td>0.732</td>\n      <td>0.860</td>\n      <td>66.971725</td>\n      <td>2</td>\n    </tr>\n    <tr>\n      <th>1</th>\n      <td>3 Musketeers</td>\n      <td>1</td>\n      <td>0</td>\n      <td>0</td>\n      <td>0</td>\n      <td>1</td>\n      <td>0</td>\n      <td>0</td>\n      <td>1</td>\n      <td>0</td>\n      <td>0.604</td>\n      <td>0.511</td>\n      <td>67.602936</td>\n      <td>2</td>\n    </tr>\n    <tr>\n      <th>2</th>\n      <td>One dime</td>\n      <td>0</td>\n      <td>0</td>\n      <td>0</td>\n      <td>0</td>\n      <td>0</td>\n      <td>0</td>\n      <td>0</td>\n      <td>0</td>\n      <td>0</td>\n      <td>0.011</td>\n      <td>0.116</td>\n      <td>32.261086</td>\n      <td>0</td>\n    </tr>\n    <tr>\n      <th>3</th>\n      <td>One quarter</td>\n      <td>0</td>\n      <td>0</td>\n      <td>0</td>\n      <td>0</td>\n      <td>0</td>\n      <td>0</td>\n      <td>0</td>\n      <td>0</td>\n      <td>0</td>\n      <td>0.011</td>\n      <td>0.511</td>\n      <td>46.116505</td>\n      <td>0</td>\n    </tr>\n    <tr>\n      <th>4</th>\n      <td>Air Heads</td>\n      <td>0</td>\n      <td>1</td>\n      <td>0</td>\n      <td>0</td>\n      <td>0</td>\n      <td>0</td>\n      <td>0</td>\n      <td>0</td>\n      <td>0</td>\n      <td>0.906</td>\n      <td>0.511</td>\n      <td>52.341465</td>\n      <td>1</td>\n    </tr>\n    <tr>\n      <th>...</th>\n      <td>...</td>\n      <td>...</td>\n      <td>...</td>\n      <td>...</td>\n      <td>...</td>\n      <td>...</td>\n      <td>...</td>\n      <td>...</td>\n      <td>...</td>\n      <td>...</td>\n      <td>...</td>\n      <td>...</td>\n      <td>...</td>\n      <td>...</td>\n    </tr>\n    <tr>\n      <th>80</th>\n      <td>Twizzlers</td>\n      <td>0</td>\n      <td>1</td>\n      <td>0</td>\n      <td>0</td>\n      <td>0</td>\n      <td>0</td>\n      <td>0</td>\n      <td>0</td>\n      <td>0</td>\n      <td>0.220</td>\n      <td>0.116</td>\n      <td>45.466282</td>\n      <td>0</td>\n    </tr>\n    <tr>\n      <th>81</th>\n      <td>Warheads</td>\n      <td>0</td>\n      <td>1</td>\n      <td>0</td>\n      <td>0</td>\n      <td>0</td>\n      <td>0</td>\n      <td>1</td>\n      <td>0</td>\n      <td>0</td>\n      <td>0.093</td>\n      <td>0.116</td>\n      <td>39.011898</td>\n      <td>0</td>\n    </tr>\n    <tr>\n      <th>82</th>\n      <td>WelchÕs Fruit Snacks</td>\n      <td>0</td>\n      <td>1</td>\n      <td>0</td>\n      <td>0</td>\n      <td>0</td>\n      <td>0</td>\n      <td>0</td>\n      <td>0</td>\n      <td>1</td>\n      <td>0.313</td>\n      <td>0.313</td>\n      <td>44.375519</td>\n      <td>0</td>\n    </tr>\n    <tr>\n      <th>83</th>\n      <td>WertherÕs Original Caramel</td>\n      <td>0</td>\n      <td>0</td>\n      <td>1</td>\n      <td>0</td>\n      <td>0</td>\n      <td>0</td>\n      <td>1</td>\n      <td>0</td>\n      <td>0</td>\n      <td>0.186</td>\n      <td>0.267</td>\n      <td>41.904308</td>\n      <td>0</td>\n    </tr>\n    <tr>\n      <th>84</th>\n      <td>Whoppers</td>\n      <td>1</td>\n      <td>0</td>\n      <td>0</td>\n      <td>0</td>\n      <td>0</td>\n      <td>1</td>\n      <td>0</td>\n      <td>0</td>\n      <td>1</td>\n      <td>0.872</td>\n      <td>0.848</td>\n      <td>49.524113</td>\n      <td>1</td>\n    </tr>\n  </tbody>\n</table>\n<p>85 rows × 14 columns</p>\n</div>"
     },
     "metadata": {}
    }
   ]
  },
  {
   "cell_type": "markdown",
   "source": "<a style='text-decoration:none;line-height:16px;display:flex;color:#5B5B62;padding:10px;justify-content:end;' href='https://deepnote.com?utm_source=created-in-deepnote-cell&projectId=183a4102-ed36-4d8f-a68e-0f907c31c07b' target=\"_blank\">\n<img alt='Created in deepnote.com' style='display:inline;max-height:16px;margin:0px;margin-right:7.5px;' src='data:image/svg+xml;base64,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' > </img>\nCreated in <span style='font-weight:600;margin-left:4px;'>Deepnote</span></a>",
   "metadata": {
    "tags": [],
    "created_in_deepnote_cell": true,
    "deepnote_cell_type": "markdown"
   }
  }
 ],
 "nbformat": 4,
 "nbformat_minor": 2,
 "metadata": {
  "orig_nbformat": 2,
  "deepnote": {
   "is_reactive": false
  },
  "deepnote_notebook_id": "1289fc25-2fcc-4114-bd29-24426ac7f00d",
  "deepnote_execution_queue": []
 }
}